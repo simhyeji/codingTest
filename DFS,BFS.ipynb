{
 "cells": [
  {
   "cell_type": "code",
   "execution_count": 1,
   "metadata": {},
   "outputs": [
    {
     "name": "stdout",
     "output_type": "stream",
     "text": [
      "1 2 7 6 8 3 4 5 "
     ]
    }
   ],
   "source": [
    "#DFS 구현(깊이 우선 탐색)\n",
    "def dfs(graph, v, visited):\n",
    "    #현재 노드 방문 처리\n",
    "    visited[v] = True\n",
    "    print(v, end=' ') #현재 확인 노드 출력\n",
    "    \n",
    "    #현재 노드와 연결된 다른 노드를 재귀적으로 방문\n",
    "    for i in graph[v]:\n",
    "        #방문하지 않은 노드일 시, 다시 dfs함수 재귀적으로 호출\n",
    "        if visited[i] == False:\n",
    "            dfs(graph, i, visited) \n",
    "\n",
    "#각 노드가 연결된 정보를 담고있는 리스트(총 8개의 노드 - 0번째는 빈 리스트)\n",
    "graph = [\n",
    "    [],\n",
    "    [2,3,8],\n",
    "    [1,7],\n",
    "    [1,4,5],\n",
    "    [3,5],\n",
    "    [3,4],\n",
    "    [7],\n",
    "    [2,6,8],\n",
    "    [1,7]\n",
    "]\n",
    "\n",
    "#방문정보를 담을 리스트\n",
    "visited = [False] * 9 #그래프의 길이만큼 지정\n",
    "\n",
    "dfs(graph, 1, visited)"
   ]
  },
  {
   "cell_type": "code",
   "execution_count": 3,
   "metadata": {},
   "outputs": [
    {
     "name": "stdout",
     "output_type": "stream",
     "text": [
      "1 2 3 8 7 4 5 6 "
     ]
    }
   ],
   "source": [
    "#BFS 구현(너비 우선 탐색)\n",
    "from collections import deque\n",
    "\n",
    "def bfs(graph, start, visited):\n",
    "    #큐 구현\n",
    "    queue = deque([start])  #큐에 시작 노드 입력\n",
    "\n",
    "    #현재 노드 방문 처리\n",
    "    visited[start] = True\n",
    "\n",
    "    #큐가 빌 때까지 반복 (아무것도 없으면 False)\n",
    "    while queue:\n",
    "        #큐에서 하나의 원소 추출\n",
    "        v = queue.popleft()\n",
    "        print(v, end=' ') #현재 확인 노드 출력\n",
    "\n",
    "        #현재 노드와 연결된 노드들 확인\n",
    "        for i in graph[v]:\n",
    "            #아직 방문하지 않은 노드가 있으면 큐에 모두 삽입\n",
    "            if not visited[i]:\n",
    "                queue.append(i)\n",
    "                visited[i] = True\n",
    "\n",
    "graph = [\n",
    "    [],\n",
    "    [2,3,8],\n",
    "    [1,7],\n",
    "    [1,4,5],\n",
    "    [3,5],\n",
    "    [3,4],\n",
    "    [7],\n",
    "    [2,6,8],\n",
    "    [1,7]\n",
    "]\n",
    "\n",
    "#방문정보를 담을 리스트\n",
    "visited = [False] * 9 #그래프의 길이만큼 지정\n",
    "\n",
    "bfs(graph, 1, visited)"
   ]
  },
  {
   "attachments": {},
   "cell_type": "markdown",
   "metadata": {},
   "source": [
    "4 5\n",
    "00110\n",
    "00011\n",
    "11111\n",
    "00000"
   ]
  },
  {
   "cell_type": "code",
   "execution_count": 8,
   "metadata": {},
   "outputs": [
    {
     "name": "stdout",
     "output_type": "stream",
     "text": [
      "3\n"
     ]
    }
   ],
   "source": [
    "#음료수 얼려먹기\n",
    "N, M = map(int, input().split())\n",
    "ice_li = []\n",
    "for i in range(N):\n",
    "    li = list(map(int,input()))  #공백 없을 때, 분리해서 리스트에 넣으려면 그냥 list()하면됨\n",
    "    ice_li.append(li)\n",
    "\n",
    "#x,y좌표가 주어질 때, 상하좌우를 확인하는 dfs 함수 작성\n",
    "def dfs(x,y):\n",
    "    if x <= -1 or y <= -1 or x >= N or y >= M:\n",
    "        return False\n",
    "    if ice_li[x][y] == 0:\n",
    "        ice_li[x][y] = 1\n",
    "    \n",
    "        dfs(x,y-1)\n",
    "        dfs(x,y+1)\n",
    "        dfs(x+1,y)\n",
    "        dfs(x-1,y)\n",
    "        return True\n",
    "    return False\n",
    "\n",
    "result = 0\n",
    "for i in range(N):\n",
    "    for j in range(M):\n",
    "        if dfs(i,j) == True:\n",
    "            result += 1\n",
    "\n",
    "print(result)   \n"
   ]
  },
  {
   "cell_type": "code",
   "execution_count": 10,
   "metadata": {},
   "outputs": [
    {
     "name": "stdout",
     "output_type": "stream",
     "text": [
      "3\n"
     ]
    }
   ],
   "source": [
    "n,m = map(int, input().split())\n",
    "ice_li = []\n",
    "for i in range(n):\n",
    "    ice_li.append(list(map(int,input())))\n",
    "\n",
    "def dfs(x,y):\n",
    "    #범위가 벗어나면 바로 패스\n",
    "    if x <= -1 or x >= n or y<=-1 or y>=m:\n",
    "        return False\n",
    "    #방문하지 않은 얼음이면 상하좌우 확인\n",
    "    if ice_li[x][y] == 0:\n",
    "        ice_li[x][y] = 1\n",
    "        \n",
    "        dfs(x-1,y)\n",
    "        dfs(x+1,y)\n",
    "        dfs(x,y-1)\n",
    "        dfs(x,y+1)\n",
    "        #모든 dfs가 성공하면 true 반환\n",
    "        return True\n",
    "    return False\n",
    "\n",
    "result= 0\n",
    "for i in range(n):\n",
    "    for j in range(m):\n",
    "        if dfs(i,j) == True:\n",
    "            result+=1\n",
    "print(result)\n",
    "        \n",
    "    "
   ]
  },
  {
   "cell_type": "code",
   "execution_count": 18,
   "metadata": {},
   "outputs": [
    {
     "ename": "ValueError",
     "evalue": "invalid literal for int() with base 10: ' '",
     "output_type": "error",
     "traceback": [
      "\u001b[1;31m---------------------------------------------------------------------------\u001b[0m",
      "\u001b[1;31mValueError\u001b[0m                                Traceback (most recent call last)",
      "\u001b[1;32mc:\\Users\\user\\Desktop\\코딩테스트\\DFS,BFS.ipynb Cell 6\u001b[0m in \u001b[0;36m<cell line: 5>\u001b[1;34m()\u001b[0m\n\u001b[0;32m      <a href='vscode-notebook-cell:/c%3A/Users/user/Desktop/%EC%BD%94%EB%94%A9%ED%85%8C%EC%8A%A4%ED%8A%B8/DFS%2CBFS.ipynb#X10sZmlsZQ%3D%3D?line=3'>4</a>\u001b[0m graph \u001b[39m=\u001b[39m []\n\u001b[0;32m      <a href='vscode-notebook-cell:/c%3A/Users/user/Desktop/%EC%BD%94%EB%94%A9%ED%85%8C%EC%8A%A4%ED%8A%B8/DFS%2CBFS.ipynb#X10sZmlsZQ%3D%3D?line=4'>5</a>\u001b[0m \u001b[39mfor\u001b[39;00m i \u001b[39min\u001b[39;00m \u001b[39mrange\u001b[39m(n):\n\u001b[1;32m----> <a href='vscode-notebook-cell:/c%3A/Users/user/Desktop/%EC%BD%94%EB%94%A9%ED%85%8C%EC%8A%A4%ED%8A%B8/DFS%2CBFS.ipynb#X10sZmlsZQ%3D%3D?line=5'>6</a>\u001b[0m     graph\u001b[39m.\u001b[39mappend(\u001b[39mlist\u001b[39;49m(\u001b[39mmap\u001b[39;49m(\u001b[39mint\u001b[39;49m,\u001b[39minput\u001b[39;49m())))\n\u001b[0;32m      <a href='vscode-notebook-cell:/c%3A/Users/user/Desktop/%EC%BD%94%EB%94%A9%ED%85%8C%EC%8A%A4%ED%8A%B8/DFS%2CBFS.ipynb#X10sZmlsZQ%3D%3D?line=7'>8</a>\u001b[0m \u001b[39m#이동할 방향 정의\u001b[39;00m\n\u001b[0;32m      <a href='vscode-notebook-cell:/c%3A/Users/user/Desktop/%EC%BD%94%EB%94%A9%ED%85%8C%EC%8A%A4%ED%8A%B8/DFS%2CBFS.ipynb#X10sZmlsZQ%3D%3D?line=8'>9</a>\u001b[0m dx \u001b[39m=\u001b[39m [\u001b[39m-\u001b[39m\u001b[39m1\u001b[39m,\u001b[39m1\u001b[39m,\u001b[39m0\u001b[39m,\u001b[39m0\u001b[39m]\n",
      "\u001b[1;31mValueError\u001b[0m: invalid literal for int() with base 10: ' '"
     ]
    }
   ],
   "source": [
    "#미로탈출\n",
    "from collections import deque\n",
    "n,m = map(int, input().split())\n",
    "graph = []\n",
    "for i in range(n):\n",
    "    graph.append(list(map(int,input())))\n",
    "\n",
    "#이동할 방향 정의\n",
    "dx = [-1,1,0,0]\n",
    "dy = [0,0,-1,1]\n",
    "\n",
    "def bfs(x,y):\n",
    "    queue = deque()\n",
    "    queue.append((x,y))\n",
    "\n",
    "    #큐가 빌 때까지 반복\n",
    "    while queue:\n",
    "        x, y = queue.popleft()\n",
    "    \n",
    "        for i in range(4):\n",
    "            nx = x + dx[i]\n",
    "            ny = y + dy[i]\n",
    "\n",
    "            #공간 벗어난 경우 무시\n",
    "            if nx < 0 or nx >= n or ny < 0 or ny >= m:\n",
    "                continue\n",
    "            #벽인 경우 무시\n",
    "            if graph[nx][ny] == 0:\n",
    "                continue\n",
    "            #해당 노드를 처음 방문하면 최단 거리 기록\n",
    "            if graph[nx][ny] == 1:\n",
    "                graph[nx][ny] = graph[x][y] + 1\n",
    "                queue.append((nx,ny))\n",
    "    return graph[n-1][m-1]\n",
    "\n",
    "print(bfs(0,0))\n",
    "\n",
    "\n"
   ]
  },
  {
   "attachments": {},
   "cell_type": "markdown",
   "metadata": {},
   "source": [
    "4 4 2 1\n",
    "1 2\n",
    "1 3\n",
    "2 3\n",
    "2 4"
   ]
  },
  {
   "cell_type": "code",
   "execution_count": 17,
   "metadata": {},
   "outputs": [
    {
     "name": "stdout",
     "output_type": "stream",
     "text": [
      "[[1, 2], [1, 3], [2, 3], [2, 4]]\n"
     ]
    }
   ],
   "source": [
    "#특정거리의 도시 찾기\n",
    "n, m , k, x = map(int, input().split())\n",
    "loads = [[] for i in range(n+1)]  \n",
    "\n",
    "for i in range(m):\n",
    "    a , b = map(int, input().split())\n",
    "    loads[a].append(b)\n"
   ]
  },
  {
   "cell_type": "code",
   "execution_count": null,
   "metadata": {},
   "outputs": [],
   "source": []
  }
 ],
 "metadata": {
  "kernelspec": {
   "display_name": "Python 3",
   "language": "python",
   "name": "python3"
  },
  "language_info": {
   "codemirror_mode": {
    "name": "ipython",
    "version": 3
   },
   "file_extension": ".py",
   "mimetype": "text/x-python",
   "name": "python",
   "nbconvert_exporter": "python",
   "pygments_lexer": "ipython3",
   "version": "3.10.6"
  },
  "orig_nbformat": 4,
  "vscode": {
   "interpreter": {
    "hash": "fb4569285eef3a3450cb62085a5b1e0da4bce0af555edc33dcf29baf3acc1368"
   }
  }
 },
 "nbformat": 4,
 "nbformat_minor": 2
}
