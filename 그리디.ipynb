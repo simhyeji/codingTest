{
 "cells": [
  {
   "cell_type": "code",
   "execution_count": 1,
   "metadata": {},
   "outputs": [
    {
     "name": "stdout",
     "output_type": "stream",
     "text": [
      "6\n"
     ]
    }
   ],
   "source": [
    "#거스름돈\n",
    "n = int(input())\n",
    "count = 0\n",
    "coin_list = [500,100,50,10]\n",
    "for i in coin_list:\n",
    "    coin = n // i\n",
    "    count += coin\n",
    "    n -= i*coin\n",
    "print(count)\n"
   ]
  },
  {
   "cell_type": "code",
   "execution_count": 27,
   "metadata": {},
   "outputs": [
    {
     "ename": "TypeError",
     "evalue": "'list' object is not callable",
     "output_type": "error",
     "traceback": [
      "\u001b[1;31m---------------------------------------------------------------------------\u001b[0m",
      "\u001b[1;31mTypeError\u001b[0m                                 Traceback (most recent call last)",
      "\u001b[1;32mc:\\Users\\user\\Desktop\\코딩테스트\\그리디.ipynb Cell 2\u001b[0m in \u001b[0;36m<cell line: 3>\u001b[1;34m()\u001b[0m\n\u001b[0;32m      <a href='vscode-notebook-cell:/c%3A/Users/user/Desktop/%EC%BD%94%EB%94%A9%ED%85%8C%EC%8A%A4%ED%8A%B8/%EA%B7%B8%EB%A6%AC%EB%94%94.ipynb#W1sZmlsZQ%3D%3D?line=0'>1</a>\u001b[0m \u001b[39m#큰수의 법칙\u001b[39;00m\n\u001b[0;32m      <a href='vscode-notebook-cell:/c%3A/Users/user/Desktop/%EC%BD%94%EB%94%A9%ED%85%8C%EC%8A%A4%ED%8A%B8/%EA%B7%B8%EB%A6%AC%EB%94%94.ipynb#W1sZmlsZQ%3D%3D?line=1'>2</a>\u001b[0m \u001b[39m# 1. 가장 큰수를 찾고 두번째로 큰수 찾기 - 정렬해서 1,2번째꺼 만 반복\u001b[39;00m\n\u001b[1;32m----> <a href='vscode-notebook-cell:/c%3A/Users/user/Desktop/%EC%BD%94%EB%94%A9%ED%85%8C%EC%8A%A4%ED%8A%B8/%EA%B7%B8%EB%A6%AC%EB%94%94.ipynb#W1sZmlsZQ%3D%3D?line=2'>3</a>\u001b[0m n,m,k \u001b[39m=\u001b[39m \u001b[39mlist\u001b[39m(\u001b[39mmap\u001b[39;49m(\u001b[39mint\u001b[39;49m, \u001b[39minput\u001b[39;49m()\u001b[39m.\u001b[39;49msplit()))  \u001b[39m#n - 숫자 개수 , m = 몇개 더해야 할지, k= 연속 제한\u001b[39;00m\n\u001b[0;32m      <a href='vscode-notebook-cell:/c%3A/Users/user/Desktop/%EC%BD%94%EB%94%A9%ED%85%8C%EC%8A%A4%ED%8A%B8/%EA%B7%B8%EB%A6%AC%EB%94%94.ipynb#W1sZmlsZQ%3D%3D?line=3'>4</a>\u001b[0m num_list \u001b[39m=\u001b[39m \u001b[39mlist\u001b[39m(\u001b[39mmap\u001b[39m(\u001b[39mint\u001b[39m, \u001b[39minput\u001b[39m()\u001b[39m.\u001b[39msplit())) \u001b[39m#숫자 리스트\u001b[39;00m\n\u001b[0;32m      <a href='vscode-notebook-cell:/c%3A/Users/user/Desktop/%EC%BD%94%EB%94%A9%ED%85%8C%EC%8A%A4%ED%8A%B8/%EA%B7%B8%EB%A6%AC%EB%94%94.ipynb#W1sZmlsZQ%3D%3D?line=5'>6</a>\u001b[0m num_list\u001b[39m.\u001b[39msort(reverse\u001b[39m=\u001b[39m\u001b[39mTrue\u001b[39;00m)\n",
      "\u001b[1;31mTypeError\u001b[0m: 'list' object is not callable"
     ]
    }
   ],
   "source": [
    "#큰수의 법칙\n",
    "# 1. 가장 큰수를 찾고 두번째로 큰수 찾기 - 정렬해서 1,2번째꺼 만 반복\n",
    "n,m,k = list(map(int, input().split()))  #n - 숫자 개수 , m = 몇개 더해야 할지, k= 연속 제한\n",
    "num_list = list(map(int, input().split())) #숫자 리스트\n",
    "\n",
    "num_list.sort(reverse=True)\n",
    "\n",
    "first = num_list[0]\n",
    "second = num_list[1]\n",
    "\n",
    "count = first*k*(m//(k)) + second*(m%k)\n",
    "print(count)\n"
   ]
  },
  {
   "cell_type": "code",
   "execution_count": 21,
   "metadata": {},
   "outputs": [
    {
     "name": "stdout",
     "output_type": "stream",
     "text": [
      "8\n"
     ]
    }
   ],
   "source": [
    "n = int(input())\n",
    "\n",
    "answer = 0\n",
    "for i in range(1,n+1): #n까지 숫자 반복해서 하나씩\n",
    "    count = 0\n",
    "    for k in range(1,i+1): #i까지 하나씩 늘림\n",
    "        if i % k == 0: #n을 1부터 하나씩 나눈 나머지\n",
    "            count += 1\n",
    "                    \n",
    "    if count >= 3:\n",
    "        answer += 1\n",
    "\n",
    "print(answer)\n",
    "\n"
   ]
  },
  {
   "cell_type": "code",
   "execution_count": 23,
   "metadata": {},
   "outputs": [
    {
     "name": "stdout",
     "output_type": "stream",
     "text": [
      "3\n"
     ]
    }
   ],
   "source": [
    "n, m = map(int, input().split())\n",
    "card_list = []\n",
    "\n",
    "for i in range(n):\n",
    "    card = list(map(int, input().split()))\n",
    "    card_list.append(card)\n",
    "min_list = []\n",
    "for cards in card_list:\n",
    "    cards.sort()\n",
    "    min_list.append(cards[0])\n",
    "min_list.sort(reverse=True)\n",
    "print(min_list[0])\n",
    "\n"
   ]
  },
  {
   "cell_type": "code",
   "execution_count": 24,
   "metadata": {},
   "outputs": [
    {
     "name": "stdout",
     "output_type": "stream",
     "text": [
      "2\n"
     ]
    }
   ],
   "source": [
    "n, m = map(int, input().split())\n",
    "result = 0\n",
    "for i in range(n):\n",
    "    data = list(map(int, input().split()))\n",
    "    min_value = min(data)\n",
    "    result = max(result,min_value)\n",
    "print(result)"
   ]
  },
  {
   "cell_type": "code",
   "execution_count": 26,
   "metadata": {},
   "outputs": [
    {
     "name": "stdout",
     "output_type": "stream",
     "text": [
      "6\n"
     ]
    }
   ],
   "source": [
    "n, k = map(int, input().split())\n",
    "count = 0\n",
    "while n != 1:\n",
    "    if n % k == 0:\n",
    "        n /= k\n",
    "        count += 1\n",
    "    else:\n",
    "        n -= 1\n",
    "        count += 1\n",
    "print(count)\n",
    "\n"
   ]
  },
  {
   "cell_type": "code",
   "execution_count": 32,
   "metadata": {},
   "outputs": [
    {
     "name": "stdout",
     "output_type": "stream",
     "text": [
      "11475\n"
     ]
    }
   ],
   "source": [
    "h = int(input())\n",
    "count = 0\n",
    "for i in range(h+1): #시간\n",
    "    for j in range(60): #분\n",
    "        for k in range(60): #초\n",
    "            if '3' in str(i)+str(j)+str(k):\n",
    "                count += 1\n",
    "print(count)\n",
    "\n"
   ]
  },
  {
   "cell_type": "code",
   "execution_count": 3,
   "metadata": {},
   "outputs": [
    {
     "name": "stdout",
     "output_type": "stream",
     "text": [
      "3 4\n"
     ]
    }
   ],
   "source": [
    "n = int(input())\n",
    "x,y = 1,1 #초기위치\n",
    "plans = input().split()\n",
    "\n",
    "#이동 방향 설정\n",
    "dx = [0,0,-1,1]\n",
    "dy = [-1,1,0,0]\n",
    "move_types = ['L','R','U','D']\n",
    "for plan in plans:\n",
    "    for i in range(4):\n",
    "        if plan == move_types[i]:\n",
    "            #이동후 좌표\n",
    "            nx = x + dx[i] \n",
    "            ny = y + dy[i]\n",
    "    if nx < 1 or ny < 1 or nx > n or ny>n:\n",
    "        continue #무시\n",
    "    x ,y = nx, ny\n",
    "print(x,y)\n",
    "\n",
    "\n"
   ]
  },
  {
   "cell_type": "code",
   "execution_count": 21,
   "metadata": {},
   "outputs": [
    {
     "name": "stdout",
     "output_type": "stream",
     "text": [
      "2\n"
     ]
    }
   ],
   "source": [
    "#왕실의 나이트\n",
    "data = input()\n",
    "x = data[0]\n",
    "y = data[1]\n",
    "x_points = {'a':1, 'b':2, 'c':3,'d':4,'e':5,'f':6,'g':7,'h':7}\n",
    "x_point = x_points[x]\n",
    "count = 0 \n",
    "x_move = [-2,-2,2,2,-1,-1,1,1]\n",
    "y_move = [1,-1,1,-1,2,-2,2,-2]\n",
    "for i in range(8):\n",
    "    #이동후 좌표\n",
    "    nx = x_point + x_move[i]\n",
    "    ny = int(y) + y_move[i]\n",
    "    if nx > 8 or nx<1 or ny>8 or ny<1:\n",
    "        continue\n",
    "    else:\n",
    "        count += 1\n",
    "print(count)\n",
    "\n"
   ]
  },
  {
   "cell_type": "code",
   "execution_count": 2,
   "metadata": {},
   "outputs": [
    {
     "ename": "IndexError",
     "evalue": "list index out of range",
     "output_type": "error",
     "traceback": [
      "\u001b[1;31m---------------------------------------------------------------------------\u001b[0m",
      "\u001b[1;31mIndexError\u001b[0m                                Traceback (most recent call last)",
      "\u001b[1;32mc:\\Users\\user\\Desktop\\코딩테스트\\그리디.ipynb Cell 10\u001b[0m in \u001b[0;36m<cell line: 12>\u001b[1;34m()\u001b[0m\n\u001b[0;32m     <a href='vscode-notebook-cell:/c%3A/Users/user/Desktop/%EC%BD%94%EB%94%A9%ED%85%8C%EC%8A%A4%ED%8A%B8/%EA%B7%B8%EB%A6%AC%EB%94%94.ipynb#X12sZmlsZQ%3D%3D?line=20'>21</a>\u001b[0m     d \u001b[39m+\u001b[39m\u001b[39m=\u001b[39m \u001b[39m1\u001b[39m \u001b[39m#방향만 업데이트하고 다시 실행\u001b[39;00m\n\u001b[0;32m     <a href='vscode-notebook-cell:/c%3A/Users/user/Desktop/%EC%BD%94%EB%94%A9%ED%85%8C%EC%8A%A4%ED%8A%B8/%EA%B7%B8%EB%A6%AC%EB%94%94.ipynb#X12sZmlsZQ%3D%3D?line=21'>22</a>\u001b[0m \u001b[39mif\u001b[39;00m move_list[a\u001b[39m-\u001b[39m\u001b[39m1\u001b[39m][b] \u001b[39m!=\u001b[39m \u001b[39m0\u001b[39m \u001b[39mand\u001b[39;00m move_list[a][b\u001b[39m-\u001b[39m\u001b[39m1\u001b[39m] \u001b[39m!=\u001b[39m \u001b[39m0\u001b[39m \u001b[39mand\u001b[39;00m move_list[a\u001b[39m+\u001b[39m\u001b[39m1\u001b[39m][b] \u001b[39m!=\u001b[39m \u001b[39m0\u001b[39m \u001b[39mand\u001b[39;00m move_list[a][b\u001b[39m+\u001b[39m\u001b[39m1\u001b[39m] \u001b[39m!=\u001b[39m \u001b[39m0\u001b[39m: \u001b[39m#사방이 다 못갈경우\u001b[39;00m\n\u001b[1;32m---> <a href='vscode-notebook-cell:/c%3A/Users/user/Desktop/%EC%BD%94%EB%94%A9%ED%85%8C%EC%8A%A4%ED%8A%B8/%EA%B7%B8%EB%A6%AC%EB%94%94.ipynb#X12sZmlsZQ%3D%3D?line=22'>23</a>\u001b[0m     \u001b[39mif\u001b[39;00m move_list[a\u001b[39m+\u001b[39mdy_list[d\u001b[39m+\u001b[39;49m\u001b[39m1\u001b[39;49m]][b\u001b[39m+\u001b[39mdx_list[d\u001b[39m+\u001b[39m\u001b[39m1\u001b[39m]] \u001b[39m==\u001b[39m \u001b[39m1\u001b[39m:\n\u001b[0;32m     <a href='vscode-notebook-cell:/c%3A/Users/user/Desktop/%EC%BD%94%EB%94%A9%ED%85%8C%EC%8A%A4%ED%8A%B8/%EA%B7%B8%EB%A6%AC%EB%94%94.ipynb#X12sZmlsZQ%3D%3D?line=23'>24</a>\u001b[0m         \u001b[39mbreak\u001b[39;00m\n\u001b[0;32m     <a href='vscode-notebook-cell:/c%3A/Users/user/Desktop/%EC%BD%94%EB%94%A9%ED%85%8C%EC%8A%A4%ED%8A%B8/%EA%B7%B8%EB%A6%AC%EB%94%94.ipynb#X12sZmlsZQ%3D%3D?line=24'>25</a>\u001b[0m     \u001b[39melse\u001b[39;00m:\n",
      "\u001b[1;31mIndexError\u001b[0m: list index out of range"
     ]
    }
   ],
   "source": [
    "n, m = map(int, input().split())\n",
    "a , b , d = map(int, input().split())  #y,x,방향 좌표\n",
    "move_list = []\n",
    "for i in range(n):\n",
    "    move_data = list(map(int, input().split()))\n",
    "    move_list.append(move_data)\n",
    "\n",
    "#보고 있는 방향 기준 확인할 왼쪽 좌표\n",
    "dx_list = [-1,0,1,0]\n",
    "dy_list = [0,-1,0,1]\n",
    "count = 1\n",
    "while True:\n",
    "    #왼쪽 방향 확인\n",
    "    if move_list[a+dy_list[d]][b+dx_list[d]] == 0:\n",
    "        a += dy_list[d]\n",
    "        b += dx_list[d]\n",
    "        d += 1\n",
    "        count += 1 #왼쪽 이동\n",
    "        move_list[a][b] = 2 #갔던 좌표 업데이트\n",
    "    else:\n",
    "        d += 1 #방향만 업데이트하고 다시 실행\n",
    "    if move_list[a-1][b] != 0 and move_list[a][b-1] != 0 and move_list[a+1][b] != 0 and move_list[a][b+1] != 0: #사방이 다 못갈경우\n",
    "        if move_list[a+dy_list[d+1]][b+dx_list[d+1]] == 1:\n",
    "            break\n",
    "        else:\n",
    "            a += dy_list[d+1]\n",
    "            b += dx_list[d+1]\n",
    "            count += 1\n",
    "print(count)\n",
    "\n",
    "\n",
    "\n"
   ]
  },
  {
   "cell_type": "code",
   "execution_count": 7,
   "metadata": {},
   "outputs": [
    {
     "name": "stdout",
     "output_type": "stream",
     "text": [
      "3\n"
     ]
    }
   ],
   "source": [
    "#ice_list = [[0,0,1,1,0],[0,0,0,1,1],[1,1,1,1,1],[0,0,0,0,0]]\n",
    "ice_list = [[0,0,1],[0,1,0],[1,0,1]]\n",
    "n,m = map(int, input().split())\n",
    "#dfs로 각 노드 방문\n",
    "def dfs(x,y):\n",
    "    if x < 0 or x >= n or y < 0 or y >= m:\n",
    "        return False\n",
    "    #아직 방문하지 않은 노드\n",
    "    if ice_list[x][y] == 0:\n",
    "        ice_list[x][y] = 1\n",
    "\n",
    "        #상하좌우 다 재귀함수로 각각 확인\n",
    "        dfs(x-1,y)\n",
    "        dfs(x+1,y)\n",
    "        dfs(x,y+1)\n",
    "        dfs(x,y-1)\n",
    "        return True #하나의 아이스크림 결성 완료\n",
    "    #벽인경우 바로 False 처리\n",
    "    return False\n",
    "\n",
    "result = 0\n",
    "for i in range(n):\n",
    "    for j in range(m):\n",
    "        if dfs(i,j) == True:\n",
    "            result += 1\n",
    "print(result)\n"
   ]
  },
  {
   "cell_type": "code",
   "execution_count": 9,
   "metadata": {},
   "outputs": [
    {
     "name": "stdout",
     "output_type": "stream",
     "text": [
      "3\n"
     ]
    }
   ],
   "source": [
    "ice_list = [[0,0,1,1,0],[0,0,0,1,1],[1,1,1,1,1],[0,0,0,0,0]]\n",
    "n,m = map(int, input().split()) #x,y\n",
    "\n",
    "def dfs(x,y):\n",
    "    #범위넘어가면 제한\n",
    "    if x<0 or x>=n or y<0 or y>=m:\n",
    "        return False\n",
    "    #0인 부분일때만 검사해야하므로\n",
    "    if ice_list[x][y] == 0:\n",
    "        ice_list[x][y] = 1\n",
    "\n",
    "        #상하좌우 확인하면서 모두 1로 업데이트\n",
    "        dfs(x-1,y)\n",
    "        dfs(x+1,y)\n",
    "        dfs(x,y+1)\n",
    "        dfs(x,y-1)\n",
    "        return True\n",
    "    return False\n",
    "\n",
    "answer = 0\n",
    "for i in range(n):\n",
    "    for j in range(m):\n",
    "        if dfs(i,j) == True:\n",
    "            answer +=1\n",
    "print(answer)\n",
    "\n",
    "\n"
   ]
  },
  {
   "cell_type": "code",
   "execution_count": 10,
   "metadata": {},
   "outputs": [
    {
     "name": "stdout",
     "output_type": "stream",
     "text": [
      "10\n"
     ]
    }
   ],
   "source": [
    "from collections import deque\n",
    "\n",
    "n,m = map(int, input().split())\n",
    "graph = [[1,0,1,0,1,0],[1,1,1,1,1,1],[0,0,0,0,0,1],[1,1,1,1,1,1],[1,1,1,1,1,1]]\n",
    "\n",
    "#이동할 방향\n",
    "dx = [-1,1,0,0]\n",
    "dy = [0,0,-1,1]\n",
    "\n",
    "#bfs 함수 구현\n",
    "def bfs(x,y):\n",
    "    queue = deque()\n",
    "    queue.append((x,y))\n",
    "\n",
    "    while queue:\n",
    "        x,y = queue.popleft()\n",
    "        for i in range(4): #네 방향 확인\n",
    "            nx = x + dx[i]\n",
    "            ny = y + dy[i]\n",
    "\n",
    "            #공간 벗어난 곳 무시\n",
    "            if nx < 0 or nx >= n or ny < 0 or ny >=m:\n",
    "                continue\n",
    "            #괴물 있는 곳 무시\n",
    "            if graph[nx][ny] == 0:\n",
    "                continue\n",
    "            #최단 거리만 구해야하니까 처음 방문하는 경우만 기록\n",
    "            if graph[nx][ny] == 1:\n",
    "                graph[nx][ny] = graph[x][y] + 1\n",
    "                queue.append((nx,ny))\n",
    "    return graph[n-1][m-1]\n",
    "\n",
    "print(bfs(0,0))\n"
   ]
  },
  {
   "cell_type": "code",
   "execution_count": null,
   "metadata": {},
   "outputs": [],
   "source": []
  }
 ],
 "metadata": {
  "kernelspec": {
   "display_name": "Python 3",
   "language": "python",
   "name": "python3"
  },
  "language_info": {
   "codemirror_mode": {
    "name": "ipython",
    "version": 3
   },
   "file_extension": ".py",
   "mimetype": "text/x-python",
   "name": "python",
   "nbconvert_exporter": "python",
   "pygments_lexer": "ipython3",
   "version": "3.10.6"
  },
  "orig_nbformat": 4,
  "vscode": {
   "interpreter": {
    "hash": "fb4569285eef3a3450cb62085a5b1e0da4bce0af555edc33dcf29baf3acc1368"
   }
  }
 },
 "nbformat": 4,
 "nbformat_minor": 2
}
