{
 "cells": [
  {
   "cell_type": "code",
   "execution_count": 1,
   "metadata": {},
   "outputs": [
    {
     "name": "stdout",
     "output_type": "stream",
     "text": [
      "[0, 1, 2, 3, 4, 5, 6, 7, 8, 9]\n"
     ]
    }
   ],
   "source": [
    "#선택정렬 - 가장 작은 데이터를 앞으로 보내는 것\n",
    "array = [7,5,9,0,3,1,6,2,4,8]\n",
    "\n",
    "for i in range(len(array)):\n",
    "    min_index = i #초기의 가장 작은 값 인덱스 지정\n",
    "    #뒤에 원소들 중 min_index의 값보다 작은 값이 있는지 확인\n",
    "    for j in range(i+1, len(array)):\n",
    "        if array[min_index] > array[j]:\n",
    "            min_index = j\n",
    "    #뒤의 값들을 모두 확인한 후, i번째에 가장 작은 값의 카드와 교환\n",
    "    array[i], array[min_index] = array[min_index], array[i]\n",
    "\n",
    "print(array)"
   ]
  },
  {
   "cell_type": "code",
   "execution_count": 1,
   "metadata": {},
   "outputs": [
    {
     "name": "stdout",
     "output_type": "stream",
     "text": [
      "[0, 1, 2, 3, 4, 5, 6, 7, 8, 9]\n"
     ]
    }
   ],
   "source": [
    "#삽입 정렬 - 특정한 데이터를 적절한 위치에 삽입 : 왼쪽으로 이동하며 삽입될 데이터보다 작은 데이터를 만나면 그 위치에서 멈춘다.\n",
    "array = [7,5,9,0,3,1,6,2,4,8]\n",
    "\n",
    "for i in range(1,len(array)):  #첫번째 원소는 이미 정렬이 되어 있다는 가정\n",
    "    for j in range(i,0,-1):  #i번째 부터 1번째까지 1씩 감소하며 확인\n",
    "        if array[j] < array[j-1]:  #왼쪽의 원소가 더 크면 스와프, 작은 원소가 나오면 멈춤\n",
    "            array[j], array[j-1] = array[j-1], array[j]\n",
    "        else:\n",
    "            break\n",
    "\n",
    "print(array)\n"
   ]
  },
  {
   "cell_type": "code",
   "execution_count": 5,
   "metadata": {},
   "outputs": [
    {
     "name": "stdout",
     "output_type": "stream",
     "text": [
      "27 15 12 "
     ]
    }
   ],
   "source": [
    "#위에서 아래로\n",
    "n = int(input())\n",
    "nums = []\n",
    "for i in range(n):\n",
    "    nums.append(input())\n",
    "nums.sort(reverse=True)\n",
    "# answer = \"\"\n",
    "# for i in nums:\n",
    "#     answer += i + \" \"\n",
    "# print(answer.strip())\n",
    "for i in nums:\n",
    "    print(i,end=\" \")\n",
    "\n"
   ]
  },
  {
   "cell_type": "code",
   "execution_count": 12,
   "metadata": {},
   "outputs": [
    {
     "name": "stdout",
     "output_type": "stream",
     "text": [
      "이 홍 "
     ]
    }
   ],
   "source": [
    "#성적이 낮은 순서로 학생 출력하기\n",
    "k = int(input())\n",
    "li = []\n",
    "for i in range(k):\n",
    "    a,b = input().split()\n",
    "    li.append([a,b])\n",
    "# def case(info):\n",
    "#     return info[1]\n",
    "# answer = sorted(li,key=case)\n",
    "answer = sorted(li, key = lambda x:x[1])\n",
    "for i in answer:\n",
    "    print(i[0],end=\" \")"
   ]
  },
  {
   "cell_type": "code",
   "execution_count": 15,
   "metadata": {},
   "outputs": [
    {
     "name": "stdout",
     "output_type": "stream",
     "text": [
      "26\n"
     ]
    }
   ],
   "source": [
    "# 5 3\n",
    "# 1 2 5 4 3\n",
    "# 5 5 6 6 5\n",
    "#두 배열의 원소 교체 -- A의 원소가 B의 원소보다 클 때를 고려안해서 틀림\n",
    "n, k = map(int, input().split())\n",
    "A = list(map(int,input().split()))\n",
    "B = list(map(int,input().split()))\n",
    "A_s = sorted(A)\n",
    "B_s = sorted(B, reverse=True)\n",
    "answer = sum(A_s[3:])+ sum(B_s[:3])\n",
    "print(answer)\n"
   ]
  },
  {
   "cell_type": "code",
   "execution_count": 16,
   "metadata": {},
   "outputs": [
    {
     "name": "stdout",
     "output_type": "stream",
     "text": [
      "26\n"
     ]
    }
   ],
   "source": [
    "#두 배열의 원소 교체 - 정답\n",
    "n, k = map(int, input().split())\n",
    "A = list(map(int,input().split()))\n",
    "B = list(map(int,input().split()))\n",
    "A.sort()\n",
    "B.sort(reverse=True)\n",
    "#A의 원소가 B의 원소보다 작은 경우만 A원소를 바꿈\n",
    "for i in range(k):\n",
    "    if A[i] < B[i]:\n",
    "        A[i] = B[i]\n",
    "    else:\n",
    "        break\n",
    "print(sum(A))"
   ]
  }
 ],
 "metadata": {
  "kernelspec": {
   "display_name": "Python 3",
   "language": "python",
   "name": "python3"
  },
  "language_info": {
   "codemirror_mode": {
    "name": "ipython",
    "version": 3
   },
   "file_extension": ".py",
   "mimetype": "text/x-python",
   "name": "python",
   "nbconvert_exporter": "python",
   "pygments_lexer": "ipython3",
   "version": "3.10.6"
  },
  "orig_nbformat": 4,
  "vscode": {
   "interpreter": {
    "hash": "fb4569285eef3a3450cb62085a5b1e0da4bce0af555edc33dcf29baf3acc1368"
   }
  }
 },
 "nbformat": 4,
 "nbformat_minor": 2
}
