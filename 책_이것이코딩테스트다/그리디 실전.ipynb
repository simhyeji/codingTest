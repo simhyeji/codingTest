{
 "cells": [
  {
   "attachments": {},
   "cell_type": "markdown",
   "metadata": {},
   "source": [
    "input\n",
    "5\n",
    "2 3 1 2 2\n",
    "[3, 2, 2, 2, 1]"
   ]
  },
  {
   "cell_type": "code",
   "execution_count": 3,
   "metadata": {},
   "outputs": [
    {
     "name": "stdout",
     "output_type": "stream",
     "text": [
      "2\n"
     ]
    }
   ],
   "source": [
    "#모험가 길드 - 내가 푼 방법 (잘못 됨)\n",
    "n = int(input())\n",
    "member_li = list(map(int, input().split()))\n",
    "member_li.sort(reverse=True)\n",
    "count = 0\n",
    "members = n\n",
    "for mem in member_li:\n",
    "    if members // mem >= 1:\n",
    "        count += 1\n",
    "        members = members / mem\n",
    "\n",
    "#------------인원수를 나눠주고 그 인원 만큼의 인덱스를 넘어가서 다음 공포도를 가져와야하는데 그냥 바로 다음 공포도를 가져와서 잘못된 코드---------\n",
    "print(count)\n",
    "\n",
    "\n"
   ]
  },
  {
   "cell_type": "code",
   "execution_count": 10,
   "metadata": {},
   "outputs": [
    {
     "name": "stdout",
     "output_type": "stream",
     "text": [
      "2\n"
     ]
    }
   ],
   "source": [
    "#모험가 길드 모범 답안\n",
    "n = int(input())\n",
    "member_li = list(map(int, input().split()))\n",
    "member_li.sort()\n",
    "count = 0 #총 그룹의 수\n",
    "members = 0 # 현재 그룹에 포함된 모험가의 수\n",
    "\n",
    "for mem in member_li:\n",
    "    members += 1 #현재 확인할 그룹의 인원수 체크\n",
    "    if members >= mem:\n",
    "        count += 1\n",
    "        members = 0\n",
    "print(count)\n",
    "\n"
   ]
  },
  {
   "cell_type": "code",
   "execution_count": 17,
   "metadata": {},
   "outputs": [
    {
     "name": "stdout",
     "output_type": "stream",
     "text": [
      "210\n"
     ]
    }
   ],
   "source": [
    "#곱하기 혹은 더하기\n",
    "num_li = input()\n",
    "result = int(num_li[0])\n",
    "for i in range(1,len(num_li)):\n",
    "    if int(num_li[i-1]) in (0,1):\n",
    "        result += int(num_li[i])\n",
    "    else:\n",
    "        result *= int(num_li[i])\n",
    "print(result)"
   ]
  },
  {
   "cell_type": "code",
   "execution_count": 50,
   "metadata": {},
   "outputs": [
    {
     "name": "stdout",
     "output_type": "stream",
     "text": [
      "3\n"
     ]
    }
   ],
   "source": [
    "#문자열 뒤집기\n",
    "num_li = input()\n",
    "result = 0\n",
    "rec_num = num_li[0]\n",
    "for i in range(1,len(num_li)):\n",
    "    if rec_num != num_li[i]:\n",
    "        result += 1\n",
    "    rec_num = num_li[i]\n",
    "if result > 0 :\n",
    "    if result%2==0:\n",
    "        result = result // 2\n",
    "    else:\n",
    "        result = (result+1)//2\n",
    "print(result)\n"
   ]
  },
  {
   "cell_type": "code",
   "execution_count": null,
   "metadata": {},
   "outputs": [],
   "source": [
    "#만들 수 없는 금액\n",
    "n = int(input())\n",
    "num_li = list(map(int, input()))\n",
    "num_li.sort()\n",
    "answer = 1\n",
    "\n",
    "while True:\n",
    "    for num in num_li:\n"
   ]
  },
  {
   "cell_type": "code",
   "execution_count": 53,
   "metadata": {},
   "outputs": [
    {
     "name": "stdout",
     "output_type": "stream",
     "text": [
      "25\n"
     ]
    }
   ],
   "source": [
    "# 1 3 2 3 2\n",
    "#볼링공 고르기\n",
    "N , M = map(int, input().split())\n",
    "ball_li = list(map(int, input().split()))\n",
    "count = 0\n",
    "\n",
    "for i in range(N): #현재 대상\n",
    "    for j in range(i+1,N): # 비교 대상\n",
    "        if ball_li[i] != ball_li[j]:\n",
    "            count += 1\n",
    "print(count)\n"
   ]
  },
  {
   "cell_type": "code",
   "execution_count": null,
   "metadata": {},
   "outputs": [],
   "source": [
    "#무지의 먹방 라이브 -- 내 코드 (정확도 30프로)\n",
    "def solution(food_times, k):      \n",
    "    answer = 0  #현재 접시\n",
    "    limit = 0 \n",
    "    for time in food_times:\n",
    "        limit += time\n",
    "    \n",
    "    if limit <= k:\n",
    "        answer = -1\n",
    "    else: \n",
    "        while k > 0:\n",
    "            for i in range(len(food_times)):\n",
    "                if food_times[i] != 0: #접시에 음식이 남아있을때\n",
    "                    answer += 1 #다음접시로 넘어감\n",
    "                    food_times[i] -= 1 #현재 접시 -1\n",
    "                    k -= 1 #시간초 1초 제외\n",
    "                    if k < 1: \n",
    "                        break\n",
    "                    #print(k, food_times , answer)\n",
    "                else: #접시에 음식이 없을때\n",
    "                    answer += 1\n",
    "                    \n",
    "        if ((answer+1) % len(food_times)) == 0:\n",
    "            answer = len(food_times)\n",
    "        else:\n",
    "            answer = ((answer+1) % len(food_times))\n",
    "        if food_times[answer-1] == 0:\n",
    "            answer += 1\n",
    "    \n",
    "    return answer\n"
   ]
  },
  {
   "cell_type": "code",
   "execution_count": null,
   "metadata": {},
   "outputs": [],
   "source": [
    "#무지의 먹방 라이브 -- 내 수정 코드 (정확도 100프로 효율성 실패)\n",
    "def solution(food_times, k):      \n",
    "    answer = 0  #현재 접시\n",
    "    limit = 0 \n",
    "    for time in food_times:\n",
    "        limit += time\n",
    "    \n",
    "    if limit <= k:\n",
    "        answer = -1\n",
    "    else: \n",
    "##------------ 다음번 횟수까지 돌려서 체크하고 밑에 answer+1하던 부분을 수정했더니 정확성 해결\n",
    "        while k >= 0:  \n",
    "            for i in range(len(food_times)):\n",
    "                if food_times[i] != 0: #접시에 음식이 남아있을때\n",
    "                    answer += 1 #다음접시로 넘어감\n",
    "                    food_times[i] -= 1 #현재 접시 -1\n",
    "                    k -= 1 #시간초 1초 제외\n",
    "                    if k < 0: \n",
    "                        break\n",
    "                    #print(k, food_times , answer)\n",
    "                else: #접시에 음식이 없을때\n",
    "                    answer += 1\n",
    "                    \n",
    "        if ((answer) % len(food_times)) == 0:\n",
    "            answer = len(food_times)\n",
    "        else:\n",
    "            answer = ((answer) % len(food_times))\n",
    "    \n",
    "    return answer"
   ]
  },
  {
   "cell_type": "code",
   "execution_count": null,
   "metadata": {},
   "outputs": [],
   "source": [
    "#무지의 먹방 라이브 -- 김수혁 코드(정확도 100, 효율성 실패)\n",
    "def solution(food_times, k):\n",
    "    answer = 0\n",
    "\n",
    "    if sum(food_times)<=k:\n",
    "        return -1\n",
    "    time = 0\n",
    "    index = 0\n",
    "    while time <=k:\n",
    "        index=index%len(food_times)\n",
    "        if food_times[index]>0:\n",
    "            food_times[index]-=1\n",
    "            index+=1\n",
    "            time+=1\n",
    "        else:\n",
    "            index+=1\n",
    "\n",
    "    answer = index\n",
    "    return answer"
   ]
  },
  {
   "cell_type": "code",
   "execution_count": null,
   "metadata": {},
   "outputs": [],
   "source": [
    "#다트게임\n",
    "def solution(dartResult):\n",
    "    answer = 0\n",
    "    num = []\n",
    "    for i in range(len(dartResult)):\n",
    "        print(answer)\n",
    "        print(num)\n",
    "        if dartResult[i].isdigit() == True: #숫자를 num 리스트에 기록\n",
    "            if dartResult[i] == \"0\"and dartResult[i-1]== \"1\":\n",
    "                continue\n",
    "            else:\n",
    "                if dartResult[i] == \"1\" and dartResult[i+1] == '0':\n",
    "                    num.append(10)\n",
    "                else:\n",
    "                    num.append(int(dartResult[i]))\n",
    "        if dartResult[i] in (\"S\",\"D\",\"T\"):\n",
    "            if dartResult[i] == \"S\":\n",
    "                answer += num[-1]\n",
    "            elif dartResult[i] ==\"D\":\n",
    "                answer += num[-1]**2\n",
    "                num[-1] = num[-1]**2\n",
    "            else: \n",
    "                answer += num[-1]**3\n",
    "                num[-1] = num[-1]**3\n",
    "        if dartResult[i] in (\"*\", \"#\"):\n",
    "            if dartResult[i] == \"*\":\n",
    "                if len(num) == 1:\n",
    "                    answer += num[-1]\n",
    "                    num[-1] = num[-1]*2\n",
    "                else:\n",
    "                    answer += num[-1] + num[-2]\n",
    "                    num[-1] = num[-1]*2\n",
    "            if dartResult[i] == \"#\":\n",
    "                answer -= num[-1]*2\n",
    "                num[-1] = num[-1]*(-1)\n",
    "                   \n",
    "    return answer"
   ]
  },
  {
   "cell_type": "code",
   "execution_count": null,
   "metadata": {},
   "outputs": [],
   "source": [
    "#다트게임 -- 김수혁 코드\n",
    "def solution(dartResult):\n",
    "    answer = 0\n",
    "    # *:2배->해당 점수와 바로 전에 얻은 점수를 2배, #:-1배\n",
    "    stack = []\n",
    "    dartResult = dartResult.replace('10','A')   #replace로 바로 10을 A로 처리\n",
    "    \n",
    "    for data in dartResult:\n",
    "        if data==\"A\" or data.isnumeric():\n",
    "            stack.append(10 if data==\"A\" else int(data))\n",
    "        elif data==\"S\":\n",
    "            continue\n",
    "        elif data == \"D\":\n",
    "            tmp = stack.pop()\n",
    "            tmp = tmp**2\n",
    "            stack.append(tmp)\n",
    "        elif data == \"T\":\n",
    "            tmp = stack.pop()\n",
    "            tmp = tmp**3\n",
    "            stack.append(tmp)\n",
    "        elif data == \"*\":\n",
    "            if len(stack)>=2:\n",
    "                tmp_1 = stack.pop()\n",
    "                tmp_2 = stack.pop()\n",
    "                tmp_1 *= 2\n",
    "                tmp_2 *= 2\n",
    "                stack.append(tmp_2)\n",
    "                stack.append(tmp_1)\n",
    "            else:\n",
    "                tmp = stack.pop()\n",
    "                tmp *=2\n",
    "                stack.append(tmp)\n",
    "        elif data == \"#\":\n",
    "            tmp = stack.pop()\n",
    "            tmp *= -1\n",
    "            stack.append(tmp)\n",
    "    answer = sum(stack)  #stack에 값 다 쌓아두고 마지막에 한번에 더하기\n",
    "    return answer"
   ]
  },
  {
   "cell_type": "code",
   "execution_count": null,
   "metadata": {},
   "outputs": [],
   "source": [
    "#성격유형 테스트 -- 옛날 코드\n",
    "\n",
    "result_list = []\n",
    "def solution(survey, choices):\n",
    "    #survey = 질문 판단 지표를 담은 문자열 배열\n",
    "    #choice = 검사자가 각 질문마다 선택한 선택지를 담은 1차원 정수 배열\n",
    "    for i in range(len(survey)):\n",
    "        if choices[i]<=3:\n",
    "            result = survey[i][0]*(4-choices[i])\n",
    "            result_list.append(result)\n",
    "        elif choices[i]>4:\n",
    "            result = survey[i][1]*(choices[i]-4)\n",
    "            result_list.append(result)\n",
    "    \n",
    "    R = str((result_list)).count('R')\n",
    "    T = str((result_list)).count('T')\n",
    "    C = str((result_list)).count('C')\n",
    "    F = str((result_list)).count('F')\n",
    "    J = str((result_list)).count('J')\n",
    "    M = str((result_list)).count('M')\n",
    "    A = str((result_list)).count('A')\n",
    "    N = str((result_list)).count('N')\n",
    "\n",
    "    answer_list= []\n",
    "    if R >= T:\n",
    "        answer_list.append('R')\n",
    "    else:\n",
    "        answer_list.append('T')\n",
    "\n",
    "    if C >= F:\n",
    "        answer_list.append('C')\n",
    "    else:\n",
    "        answer_list.append('F')\n",
    "\n",
    "    if J >= M:\n",
    "        answer_list.append('J')\n",
    "    else:\n",
    "        answer_list.append('M')\n",
    "\n",
    "    if A >= N:\n",
    "        answer_list.append('A')\n",
    "    else:\n",
    "        answer_list.append('N')\n",
    "    \n",
    "    answer = ''.join(answer_list)\n",
    "    return answer"
   ]
  },
  {
   "cell_type": "code",
   "execution_count": null,
   "metadata": {},
   "outputs": [],
   "source": [
    "#성격유형 검사하기 -- 새로 푼거\n",
    "def solution(survey, choices):\n",
    "    answer = ''\n",
    "    con = {'R': 0, 'T': 0, 'C': 0,'F':0,'J':0,'M':0,'A':0,'N':0}\n",
    "    for i in range(len(survey)):\n",
    "        if choices[i] <=3:\n",
    "            con[survey[i][0]] += (-1) * choices[i] + 4\n",
    "        elif choices[i] >= 5:\n",
    "            con[survey[i][1]] += choices[i] - 4\n",
    "        else:\n",
    "            continue\n",
    "    if con['R'] >= con['T']:\n",
    "        answer += \"R\"\n",
    "    else:\n",
    "        answer += \"T\"\n",
    "    if con['C'] >= con['F']:\n",
    "        answer += 'C'\n",
    "    else:\n",
    "        answer += 'F'\n",
    "    if con['J'] >= con['M']:\n",
    "        answer += 'J'\n",
    "    else:\n",
    "        answer += 'M'\n",
    "    if con['A'] >= con['N']:\n",
    "        answer += 'A'\n",
    "    else:\n",
    "        answer += 'N'   \n",
    "            \n",
    "    return answer"
   ]
  }
 ],
 "metadata": {
  "kernelspec": {
   "display_name": "Python 3",
   "language": "python",
   "name": "python3"
  },
  "language_info": {
   "codemirror_mode": {
    "name": "ipython",
    "version": 3
   },
   "file_extension": ".py",
   "mimetype": "text/x-python",
   "name": "python",
   "nbconvert_exporter": "python",
   "pygments_lexer": "ipython3",
   "version": "3.10.6"
  },
  "orig_nbformat": 4,
  "vscode": {
   "interpreter": {
    "hash": "fb4569285eef3a3450cb62085a5b1e0da4bce0af555edc33dcf29baf3acc1368"
   }
  }
 },
 "nbformat": 4,
 "nbformat_minor": 2
}
