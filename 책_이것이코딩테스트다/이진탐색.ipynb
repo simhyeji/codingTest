{
 "cells": [
  {
   "attachments": {},
   "cell_type": "markdown",
   "metadata": {},
   "source": [
    "## 이진탐색\n",
    "- 이미 정렬이 되어 있는 배열 내에서 target값을 찾는 방법\n",
    "- 찾으려는 데이터와 중간점 위치에 있는 데이터를 반복적으로 비교해서 원하는 데이터를 찾는 방법\n",
    "- 절반씩 범위를 줄여나가며 값을 빠르게 찾는 방법"
   ]
  },
  {
   "cell_type": "code",
   "execution_count": 2,
   "metadata": {},
   "outputs": [
    {
     "name": "stdout",
     "output_type": "stream",
     "text": [
      "4\n"
     ]
    }
   ],
   "source": [
    "#재귀함수로 구현한 이진탐색\n",
    "n = 10 #원소의 개수\n",
    "target = 7\n",
    "array = [1,3,5,7,9,11,13,15,17,19]\n",
    "\n",
    "def binary_search(array, target, start, end):  #배열, 찾는 값, 시작 인덱스, 끝 인덱스\n",
    "    if start > end: \n",
    "        return None  #시작점과 끝점 사이에 값이 없는 상태\n",
    "    mid = (start + end) // 2  #중간값에서 소수점 이하는 버림\n",
    "    #값을 찾은 경우 중간점 인덱스 반환\n",
    "    if array[mid] == target:\n",
    "        return mid\n",
    "    #찾고자 하는 값이 중간점보다 작은면 왼쪽 부분만 가지고 다시 탐색 시행\n",
    "    elif array[mid] > target:\n",
    "        return binary_search(array, target, start, mid-1)\n",
    "    #찾고자 하는 값이 더 크면 오른쪽 부분만 다시 탐색\n",
    "    else:\n",
    "        return binary_search(array, target, mid+1, end)\n",
    "    \n",
    "result = binary_search(array, target, 0, n-1)\n",
    "if result == None:\n",
    "    print(\"원소가 존재하지 않습니다.\")\n",
    "else:\n",
    "    print(result+1)  #해당원소의 인덱스 출력\n",
    "    "
   ]
  },
  {
   "cell_type": "code",
   "execution_count": 3,
   "metadata": {},
   "outputs": [
    {
     "name": "stdout",
     "output_type": "stream",
     "text": [
      "4\n"
     ]
    }
   ],
   "source": [
    "#반복문으로 구현한 이진탐색\n",
    "n = 10 #원소의 개수\n",
    "target = 7\n",
    "array = [1,3,5,7,9,11,13,15,17,19]\n",
    "\n",
    "def binary_search(array, target, start, end):\n",
    "    while start <= end:\n",
    "        mid = (start+end)//2\n",
    "        if array[mid] == target:\n",
    "            return mid\n",
    "        elif array[mid] > target:  #중간점 값이 더 크므로 왼쪽 부분만 확인하도록 end값 변경\n",
    "            end = mid-1\n",
    "        else:\n",
    "            start = mid+1\n",
    "    return None  #start > end 이면 값이 없음 반환\n",
    "\n",
    "result = binary_search(array, target, 0, n-1)\n",
    "if result == None:\n",
    "    print(\"원소가 존재하지 않습니다.\")\n",
    "else:\n",
    "    print(result+1)\n"
   ]
  },
  {
   "cell_type": "code",
   "execution_count": 5,
   "metadata": {},
   "outputs": [
    {
     "name": "stdout",
     "output_type": "stream",
     "text": [
      "4\n"
     ]
    }
   ],
   "source": [
    "n = 10 #원소의 개수\n",
    "target = 7\n",
    "array = [1,3,5,7,9,11,13,15,17,19]\n",
    "\n",
    "def binary_search(array, target, start, end):\n",
    "    while start <= end:\n",
    "        mid = (start + end) //2\n",
    "        if array[mid] == target:\n",
    "            return mid\n",
    "        elif array[mid] > target:\n",
    "            end = mid -1\n",
    "        else:\n",
    "            start = mid +1\n",
    "    return None\n",
    "\n",
    "result = binary_search(array, target,0,n-1)\n",
    "if result == None:\n",
    "    print(\"원소가 존재하지 않습니다.\")\n",
    "else:\n",
    "    print(result+1)\n"
   ]
  },
  {
   "cell_type": "code",
   "execution_count": 8,
   "metadata": {},
   "outputs": [
    {
     "name": "stdout",
     "output_type": "stream",
     "text": [
      "no yes yes "
     ]
    }
   ],
   "source": [
    "# 5\n",
    "# 8 3 7 9 2\n",
    "# 3\n",
    "# 5 7 9\n",
    "#부품찾기 -- 이진탐색\n",
    "n = int(input())\n",
    "shop = list(map(int, input().split()))\n",
    "m = int(input())\n",
    "cus = list(map(int, input().split()))\n",
    "\n",
    "shop.sort()\n",
    "def binary_search(array, target, start, end):\n",
    "    while start <= end:\n",
    "        mid = (start+end) // 2\n",
    "        if array[mid] == target:\n",
    "            return \"yes\"\n",
    "        elif array[mid] > target:\n",
    "            end = mid -1\n",
    "        else:\n",
    "            start = mid+1\n",
    "    return \"no\"\n",
    "\n",
    "for cu in cus:\n",
    "    print(binary_search(shop, cu, 0, n-1), end=\" \")\n",
    "    \n"
   ]
  },
  {
   "cell_type": "code",
   "execution_count": 10,
   "metadata": {},
   "outputs": [
    {
     "name": "stdout",
     "output_type": "stream",
     "text": [
      "no yes yes "
     ]
    }
   ],
   "source": [
    "#부품 찾기 -- 계수 정렬\n",
    "n = int(input())\n",
    "shop = list(map(int, input().split()))\n",
    "m = int(input())\n",
    "cus = list(map(int, input().split()))\n",
    "\n",
    "prod = [0]*(max(shop)+1) #물건번호를 저장할 리스트 생성\n",
    "for i in shop:\n",
    "    prod[i] += 1\n",
    "\n",
    "for i in cus:\n",
    "    if prod[i] != 0:\n",
    "        print(\"yes\", end=\" \")\n",
    "    else:\n",
    "        print(\"no\", end=\" \")"
   ]
  },
  {
   "cell_type": "code",
   "execution_count": 11,
   "metadata": {},
   "outputs": [
    {
     "name": "stdout",
     "output_type": "stream",
     "text": [
      "no yes yes "
     ]
    }
   ],
   "source": [
    "#부품찾기 -- 집합자료형 이용 : 집합 자료형은 단순히 특정 데이터가 존재하는지 검사할 때 유용하게 사용가능\n",
    "n = int(input())\n",
    "shop = set(map(int, input().split()))\n",
    "m = int(input())\n",
    "cus = list(map(int, input().split()))\n",
    "\n",
    "for i in cus:\n",
    "    if i in shop:\n",
    "        print('yes', end= ' ')\n",
    "    else:\n",
    "        print('no', end=' ')"
   ]
  },
  {
   "cell_type": "code",
   "execution_count": 13,
   "metadata": {},
   "outputs": [
    {
     "name": "stdout",
     "output_type": "stream",
     "text": [
      "15\n"
     ]
    }
   ],
   "source": [
    "# 4 6\n",
    "# 19 15 10 17\n",
    "#떡볶이 떡 만들기  -- 떡을 최대한 덜 자를 수 있는 경우를 고려해야하는데, 이 경우는 계속 자르기 때문에 다른 케이스 통과 불가\n",
    "n,m = map(int,input().split())  #떡의 개수, 요청한 떡의 길이\n",
    "arrays = list(map(int, input().split()))  #떡의 개별 높이 리스트\n",
    "\n",
    "def search(arrays, m, start, end):\n",
    "    while start <= end:\n",
    "        h = (start + end) // 2  #절단기의 높이\n",
    "        long = 0\n",
    "        for array in arrays:\n",
    "            if array - h > 0:\n",
    "                long += array - h\n",
    "        if long == m:\n",
    "            return h\n",
    "        elif long > m:\n",
    "            start = h+1\n",
    "        else:\n",
    "            end = h -1\n",
    "\n",
    "print(search(arrays, m , 0, max(arrays)))\n"
   ]
  },
  {
   "cell_type": "code",
   "execution_count": 14,
   "metadata": {},
   "outputs": [
    {
     "name": "stdout",
     "output_type": "stream",
     "text": [
      "15\n"
     ]
    }
   ],
   "source": [
    "#떡볶이 떡 만들기 수정  -- 최대한 덜 자른 경우를 고려하도록 코드 수정\n",
    "n,m = map(int,input().split())  #떡의 개수, 요청한 떡의 길이\n",
    "arrays = list(map(int, input().split()))  #떡의 개별 높이 리스트\n",
    "\n",
    "def search(arrays, m, start, end):\n",
    "    result = 0  #절단기의 높이 기록\n",
    "    while start <= end:\n",
    "        h = (start + end) // 2  #절단기의 높이\n",
    "        long = 0  #떡의 총 길이\n",
    "        for array in arrays:\n",
    "            if array - h > 0:\n",
    "                long += array - h\n",
    "        #손님이 요청한 길이 M일때, 적어도 M만큼의 길이를 구해야함 \n",
    "        if long < m: #떡의 양이 부족한 경우 더 많이 자르기\n",
    "            end = h -1  \n",
    "        else:\n",
    "            result = h  #최대한 덜 잘랐을 때가 정답이므로, 여기에서 result기록 (만약, 떡의 길이가 딱 안 떨어질때 이전의 값으로 기록됨)\n",
    "            start = h + 1\n",
    "    return result\n",
    "\n",
    "print(search(arrays, m , 0, max(arrays)))"
   ]
  }
 ],
 "metadata": {
  "kernelspec": {
   "display_name": "Python 3",
   "language": "python",
   "name": "python3"
  },
  "language_info": {
   "codemirror_mode": {
    "name": "ipython",
    "version": 3
   },
   "file_extension": ".py",
   "mimetype": "text/x-python",
   "name": "python",
   "nbconvert_exporter": "python",
   "pygments_lexer": "ipython3",
   "version": "3.10.6"
  },
  "orig_nbformat": 4
 },
 "nbformat": 4,
 "nbformat_minor": 2
}
