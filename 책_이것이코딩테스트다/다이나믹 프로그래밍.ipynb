{
 "cells": [
  {
   "attachments": {},
   "cell_type": "markdown",
   "metadata": {},
   "source": [
    "### DP\n",
    "- 반복되는 연산을 한번 구한 결과를 리스트와 같은 메모리 공간에 메모해두고 호출하는 것\n",
    "- 큰 문제를 작게 나누고 같은 문제라면 한 번씩만 풀어 문제를 효율적으로 해결하는 것\n",
    "\n",
    "### DP의 사용 조건\n",
    "1. 큰 문제를 작은 문제로 나눌 수 있다.\n",
    "2. 작은 문제에서 구한 결과는 그것을 포함하는 큰 문제에서도 동일하다.\n",
    "\n",
    "#### 분할정복과의 차이\n",
    "- 분할 정복은 한번 구한 결과는 다시 처리 x\n",
    "- Dp는 한번 구한 결과를 다시 해결한다. \n",
    "\n",
    "### 탑다운 / 보텀업\n",
    "- 탑다운 : 재귀함수를 활용하여 큰 문제를 해결하기 위해 작은 문제를 호출\n",
    "- 보텀업 : 단순히 반복문을 이용하여 작은 문제부터 차근차근 답을 도출 -> 대부분 보텀업 방식으로 구현\n"
   ]
  },
  {
   "cell_type": "code",
   "execution_count": 1,
   "metadata": {},
   "outputs": [
    {
     "name": "stdout",
     "output_type": "stream",
     "text": [
      "3\n"
     ]
    }
   ],
   "source": [
    "#피보나치 수열 구현 -- 재귀함수로 구현\n",
    "def fibo(x):\n",
    "    if x ==1 or x == 2:\n",
    "        return 1\n",
    "    return fibo(x-1) + fibo(x-2)\n",
    "print(fibo(4))"
   ]
  },
  {
   "cell_type": "code",
   "execution_count": 1,
   "metadata": {},
   "outputs": [
    {
     "name": "stdout",
     "output_type": "stream",
     "text": [
      "f(10) f(9) f(8) f(7) f(6) f(5) f(4) f(3) f(2) f(1) f(2) f(3) f(4) f(5) f(6) f(7) f(8) "
     ]
    },
    {
     "data": {
      "text/plain": [
       "55"
      ]
     },
     "execution_count": 1,
     "metadata": {},
     "output_type": "execute_result"
    }
   ],
   "source": [
    "#피보나치 수열 구현 -- DP - 탑다운\n",
    "#fibo(10)을 구할 때\n",
    "dp = [0] * 11\n",
    "\n",
    "def fibo(x):\n",
    "    #print('f(' + str(x) + ')', end= ' ')\n",
    "    if x == 1 or x == 2:\n",
    "        return 1\n",
    "    elif dp[x] != 0:\n",
    "        return dp[x]\n",
    "    else:\n",
    "        dp[x] = fibo(x-1) + fibo(x-2)\n",
    "        return dp[x]\n",
    "\n",
    "fibo(10)"
   ]
  },
  {
   "cell_type": "code",
   "execution_count": 2,
   "metadata": {},
   "outputs": [
    {
     "name": "stdout",
     "output_type": "stream",
     "text": [
      "218922995834555169026\n"
     ]
    }
   ],
   "source": [
    "#피보나치 수열 -- Dp - 보텀업\n",
    "dp = [0] * 100\n",
    "\n",
    "dp[1] = 1\n",
    "dp[2] = 1\n",
    "n= 99\n",
    "\n",
    "#작은 수부터 반복문으로 구현\n",
    "for i in range(3, n+1):\n",
    "    dp[i] = dp[i-1] + dp[i-2]\n",
    "\n",
    "print(dp[99])"
   ]
  },
  {
   "cell_type": "code",
   "execution_count": 15,
   "metadata": {},
   "outputs": [
    {
     "name": "stdout",
     "output_type": "stream",
     "text": [
      "2\n"
     ]
    }
   ],
   "source": [
    "# 1로 만들기 -- 보텀업 (연산의 역순으로 생각하여 계산)\n",
    "#입력값 = 26\n",
    "dp = [0] * 30001\n",
    "n = 6\n",
    "\n",
    "for i in range(2, n+1):\n",
    "    dp[i] = dp[i-1] + 1  #이전 연산의 값 + 1 해서 카운트 올림\n",
    "    #i가 2의 배수일때\n",
    "    if i % 2 == 0:\n",
    "        dp[i] = min(dp[i], dp[i //2] + 1)  #그냥 1을 빼는 것과 2로 나누는 값 중 더 최소값을 찾는다.\n",
    "    if i % 3 == 0:\n",
    "        dp[i] = min(dp[i], dp[i//3]+1)\n",
    "    if i % 5 == 0:\n",
    "        dp[i] = min(dp[i], dp[i//5] + 1)\n",
    "\n",
    "print(dp[n])\n"
   ]
  },
  {
   "cell_type": "code",
   "execution_count": 16,
   "metadata": {},
   "outputs": [
    {
     "name": "stdout",
     "output_type": "stream",
     "text": [
      "8\n"
     ]
    }
   ],
   "source": [
    "#개미전사\n",
    "n = int(input())\n",
    "array = list(map(int, input().split()))\n",
    "\n",
    "dp = [0] * n * 100\n",
    "\n",
    "dp[0] = array[0]\n",
    "dp[1] = max(array[0], array[1])\n",
    "for i in range(2, n):\n",
    "    dp[i] = max(dp[i-1], dp[i-2]+ array[i]) #i-1번째를 털면 현재꺼는 못 털어서 dp[i-1]만 하고, i-2번째는 현재꺼도 털 수 있으니까 dp[i-2] + array[i]\n",
    "\n",
    "print(dp[n-1])  #인덱스를 기준으로 되어있기에 1을 빼줌\n"
   ]
  },
  {
   "cell_type": "code",
   "execution_count": 35,
   "metadata": {},
   "outputs": [
    {
     "name": "stdout",
     "output_type": "stream",
     "text": [
      "-1\n"
     ]
    }
   ],
   "source": [
    "#효율적인 화폐 구성\n",
    "n, m = 3, 4\n",
    "coin = []\n",
    "dp = [-1] * (m+1)\n",
    "for i in range(n):\n",
    "    coin.append(int(input()))\n",
    "\n",
    "\n",
    "for i in range(1,m+1):\n",
    "    if i < min(coin):\n",
    "        continue\n",
    "    elif i in coin:\n",
    "        dp[i] = 1\n",
    "    else:\n",
    "        min_li = []\n",
    "        for j in coin:\n",
    "            if dp[i-j] != -1:\n",
    "                min_li.append(dp[i-j]+1)\n",
    "        if len(min_li) > 0:\n",
    "            dp[i] = min(min_li)\n",
    "        \n",
    "print(dp[m])"
   ]
  },
  {
   "cell_type": "code",
   "execution_count": 38,
   "metadata": {},
   "outputs": [
    {
     "name": "stdout",
     "output_type": "stream",
     "text": [
      "5\n"
     ]
    }
   ],
   "source": [
    "#바닥공사\n",
    "n = int(input())\n",
    "dp = [0]*1001\n",
    "\n",
    "dp[1] = 1\n",
    "dp[2] = 3\n",
    "for i in range(3, n+1):\n",
    "    dp[i] = (dp[i-1] + dp[i-2] + dp[i-2]) % 796796\n",
    "\n",
    "print(dp[n])"
   ]
  },
  {
   "cell_type": "code",
   "execution_count": null,
   "metadata": {},
   "outputs": [],
   "source": []
  }
 ],
 "metadata": {
  "kernelspec": {
   "display_name": "Python 3",
   "language": "python",
   "name": "python3"
  },
  "language_info": {
   "codemirror_mode": {
    "name": "ipython",
    "version": 3
   },
   "file_extension": ".py",
   "mimetype": "text/x-python",
   "name": "python",
   "nbconvert_exporter": "python",
   "pygments_lexer": "ipython3",
   "version": "3.10.6"
  },
  "orig_nbformat": 4
 },
 "nbformat": 4,
 "nbformat_minor": 2
}
