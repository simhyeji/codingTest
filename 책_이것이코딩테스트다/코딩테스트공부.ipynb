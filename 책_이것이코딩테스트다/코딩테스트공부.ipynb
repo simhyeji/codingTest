{
 "cells": [
  {
   "attachments": {},
   "cell_type": "markdown",
   "metadata": {},
   "source": [
    "### 크기가 N이고 모든 값이 0인 1차원 리스트 초기화 코드"
   ]
  },
  {
   "cell_type": "code",
   "execution_count": 1,
   "metadata": {},
   "outputs": [
    {
     "name": "stdout",
     "output_type": "stream",
     "text": [
      "[0, 0, 0, 0, 0, 0, 0, 0, 0, 0]\n"
     ]
    }
   ],
   "source": [
    "n = 10\n",
    "a = [0] * n\n",
    "print(a)"
   ]
  },
  {
   "attachments": {},
   "cell_type": "markdown",
   "metadata": {},
   "source": [
    "### 리스트 컴프리헨션 - 리스트 초기화 (짧고 간결)\n",
    "[출력값 for 변수 in 반복 범위 if 조건]"
   ]
  },
  {
   "cell_type": "code",
   "execution_count": 4,
   "metadata": {},
   "outputs": [
    {
     "name": "stdout",
     "output_type": "stream",
     "text": [
      "[1, 3, 5, 7, 9, 11, 13, 15, 17, 19]\n",
      "[1, 3, 5, 7, 9, 11, 13, 15, 17, 19]\n"
     ]
    }
   ],
   "source": [
    "# 0부터 19까지의 수 중에서 홀수만 포함하는 리스트\n",
    "array = [i for i in range(20) if i % 2 == 1]\n",
    "print(array)\n",
    "\n",
    "# -----------------일반 반복문 사용---------\n",
    "array = []\n",
    "for i in range(20):\n",
    "    if i %2 ==1:\n",
    "        array.append(i)\n",
    "print(array)"
   ]
  },
  {
   "cell_type": "code",
   "execution_count": 9,
   "metadata": {},
   "outputs": [
    {
     "name": "stdout",
     "output_type": "stream",
     "text": [
      "[1, 4, 9, 16, 25, 36, 49, 64, 81]\n"
     ]
    }
   ],
   "source": [
    "# 1부터 9까지 수의 제곱 값을 포함하는 리스트\n",
    "array = [i*i for i in range(1,10)]  #거듭제곱 사용하여 i**2도 가능\n",
    "print(array)"
   ]
  },
  {
   "cell_type": "code",
   "execution_count": 11,
   "metadata": {},
   "outputs": [
    {
     "name": "stdout",
     "output_type": "stream",
     "text": [
      "[[0, 0, 0, 0], [0, 0, 0, 0], [0, 0, 0, 0]]\n"
     ]
    }
   ],
   "source": [
    "# N*M 크기의 2차원 리스트 초기화 - 특정한 크기를 가지는 2차원 리스트를 초기화할 때는 반드시 리스트 컴프리헨션을 사용해야함.\n",
    "n = 3 #행\n",
    "m = 4 #열\n",
    "array = [[0]*m for _ in range(n)]  # _ 를 사용하면 반복을 수행하되 반복을 위한 변수의 값 무시 (단순 반복 가능)\n",
    "print(array)"
   ]
  },
  {
   "cell_type": "code",
   "execution_count": 14,
   "metadata": {},
   "outputs": [
    {
     "name": "stdout",
     "output_type": "stream",
     "text": [
      "[1, 2, 4, 6]\n"
     ]
    }
   ],
   "source": [
    "array.append() # 리스트에 원소 하나 삽입 (뒤에 추가)\n",
    "array.sort() # 리스트 정렬(오름차순) - 시간 짧게 걸림\n",
    "array.sort(reverse=True) # 내림차순 정렬\n",
    "array.reverse() # 리스트 순서 뒤바꿈\n",
    "array.insert(삽입할 위치 인덱스, 삽입할 값) # 특정 위치에 원소 삽입\n",
    "array.count(특정값) # 특정값 개수 카운트\n",
    "array.remove(특정값) # 특정 값 원소 제거, 여러개면 하나만 삭제\n",
    "# insert 와 remove는 시간 오래걸림\n",
    "# remove_all() 구현 - 특정값 원소 모두 제거 : 리스트의 원소를 모두 확인하며 제거할 remove_set에 포함되지 않을 때만 넣음\n",
    "a = [1,2,3,3,4,5,6]\n",
    "remove_set = [3,5]\n",
    "\n",
    "result = [i for i in a if i not in remove_set]\n",
    "print(result)"
   ]
  },
  {
   "attachments": {},
   "cell_type": "markdown",
   "metadata": {},
   "source": [
    "### 문자열 자료형"
   ]
  },
  {
   "attachments": {},
   "cell_type": "markdown",
   "metadata": {},
   "source": [
    "1. \\+ 기호 활용 문자열 합치기 가능\n",
    "2. \\* 활용 반복 가능\n",
    "3. a[] 활용 인덱싱, 슬라이싱 가능\n"
   ]
  },
  {
   "attachments": {},
   "cell_type": "markdown",
   "metadata": {},
   "source": [
    "### 딕셔너리 자료형 {'key' : 'value'}\n",
    "- 순서가 없어서 인덱싱 x : 키 값으로 인덱스 사용"
   ]
  },
  {
   "cell_type": "code",
   "execution_count": 23,
   "metadata": {},
   "outputs": [
    {
     "name": "stdout",
     "output_type": "stream",
     "text": [
      "{'사과': 'apple', '바나나': 'banana', '코코넛': 'coconut'}\n",
      "Ok\n",
      "dict_keys(['사과', '바나나', '코코넛'])\n",
      "dict_values(['apple', 'banana', 'coconut'])\n",
      "dict_items([('사과', 'apple'), ('바나나', 'banana'), ('코코넛', 'coconut')])\n",
      "apple\n",
      "banana\n",
      "coconut\n",
      "사과 apple\n",
      "바나나 banana\n",
      "코코넛 coconut\n"
     ]
    }
   ],
   "source": [
    "# 딕셔너리 데이터 삽입 방법\n",
    "data = dict() # {}도 가능\n",
    "data['사과'] = 'apple'\n",
    "data['바나나'] = 'banana'\n",
    "data['코코넛'] = 'coconut'\n",
    "\n",
    "print(data)\n",
    "\n",
    "# 특정 원소 검색\n",
    "if '사과' in data:\n",
    "    print(\"Ok\")\n",
    "\n",
    "# 키 데이터 리스트 뽑기\n",
    "key_list = data.keys()\n",
    "# 값 데이터 리스트 뽑기\n",
    "value_list = data.values()\n",
    "# 키, 값 쌍으로 반복\n",
    "item_list = data.items()\n",
    "\n",
    "print(key_list)\n",
    "print(value_list)\n",
    "print(item_list) #리스트로 반환\n",
    "\n",
    "#각 키에 따른 value값을 하나씩 출력 - 인덱스 대신 키 값을 이용가능(그래서 value값으로 key값 찾는건 불가능)\n",
    "for key in key_list:  # for key in data.keys()로 한번에 가능\n",
    "    print(data[key])\n",
    "\n",
    "#각 키와 값을 하나씩 변수지정해서 출력\n",
    "for k,v in item_list:\n",
    "    print(k,v)\n",
    "\n"
   ]
  },
  {
   "attachments": {},
   "cell_type": "markdown",
   "metadata": {},
   "source": [
    "### 딕셔너리 수정\n",
    "\n",
    "- 한 쌍 추가 / 수정\n",
    "dic[key] = value값\n",
    "\n",
    "- 여러쌍 추가\n",
    "dic.update({key1:value1, key2:value2,...}) \n",
    "-- update()함수에 기존 존재하는 key 값이 있으면 덮어쓰기 됨\n",
    "\n",
    "- 삭제하기\n",
    "del dic[key]\n"
   ]
  },
  {
   "attachments": {},
   "cell_type": "markdown",
   "metadata": {},
   "source": [
    "### 집합 자료형 - set([리스트])  /  { , , , , }\n",
    "- 중복 x\n",
    "- 순서 x : 인덱싱 불가능\n",
    "- 특정 데이터가 이미 등장한 적이 있는지 확인할 때 유용"
   ]
  },
  {
   "cell_type": "code",
   "execution_count": 29,
   "metadata": {},
   "outputs": [
    {
     "name": "stdout",
     "output_type": "stream",
     "text": [
      "{1, 2, 3, 4, 5, 6, 7}\n",
      "{3, 4}\n",
      "{1, 2}\n"
     ]
    }
   ],
   "source": [
    "a = set([1,2,3,4])\n",
    "b = {3,4,5,6,7}\n",
    "\n",
    "#합집합\n",
    "print(a | b)\n",
    "#교집합\n",
    "print(a & b)\n",
    "#차집합\n",
    "print(a - b)"
   ]
  },
  {
   "cell_type": "code",
   "execution_count": 30,
   "metadata": {},
   "outputs": [
    {
     "name": "stdout",
     "output_type": "stream",
     "text": [
      "{1, 2, 3, 4, 5}\n",
      "{1, 2, 3, 4, 5, 7, 8}\n",
      "{1, 2, 3, 4, 5, 8}\n"
     ]
    }
   ],
   "source": [
    "#새로운 원소 추가\n",
    "a.add(5)\n",
    "print(a)\n",
    "\n",
    "#여러개 추가\n",
    "a.update([7,8])  #[]/{} 형태로 삽입\n",
    "print(a)\n",
    "\n",
    "# 삭제\n",
    "a.remove(7)\n",
    "print(a)"
   ]
  },
  {
   "attachments": {},
   "cell_type": "markdown",
   "metadata": {},
   "source": [
    "### 조건문의 조건부 표현식 (리스트컴프리헨션)\n",
    "참일 때 결과값 if 조건문 else 거짓일 때 결과값"
   ]
  },
  {
   "cell_type": "code",
   "execution_count": 32,
   "metadata": {},
   "outputs": [
    {
     "name": "stdout",
     "output_type": "stream",
     "text": [
      "success\n"
     ]
    }
   ],
   "source": [
    "score = 85\n",
    "result = \"success\" if score >= 80 else \"fail\"\n",
    "print(result)"
   ]
  },
  {
   "cell_type": "code",
   "execution_count": 35,
   "metadata": {},
   "outputs": [
    {
     "name": "stdout",
     "output_type": "stream",
     "text": [
      "[1, 2, 4]\n",
      "[1, 2, 4]\n"
     ]
    }
   ],
   "source": [
    "# 조건부 표현식 사용하여 리스트 수정하여 새로운 리스트를 만들 때 유용\n",
    "\n",
    "#원소 제거 시, 원래 조건문\n",
    "a = [1,2,3,3,4,5,5,5]\n",
    "remove_set = {3,5}\n",
    "\n",
    "result = []\n",
    "for i in a:\n",
    "    if i not in remove_set:\n",
    "        result.append(i)\n",
    "print(result)\n",
    "\n",
    "#조건부 표현식 사용 - 간편하고 빠르게 리스트화 가능\n",
    "result = [i for i in a if i not in remove_set]\n",
    "print(result)\n",
    "\n",
    "#조건부 표현식에 for문과 if, else를 모두 사용하려면 for문 앞 결과부에 if~else문 써야함. 뒤에쓰면 작동 x\n",
    "result = [(print(\"even\") if i%2 == 0 else print(\"odd\")) for i in a ]\n",
    "# [print(\"even\") for i in num if i%2 == 0 else print(\"odd\")] - else문이 정상 작동 x\n",
    "\n",
    "#조건부 표현식에 if~elif~else 쓰려면 [결과 = A if 조건 else B if 조건 else C] 이것처럼 else 뒤에 if 문을 또 써야함.\n",
    "[print(\"A\") if a >= 90 else print(\"B\") if a>=70 else print(\"C\") if a>=40 else print(\"D\") ]"
   ]
  },
  {
   "attachments": {},
   "cell_type": "markdown",
   "metadata": {},
   "source": [
    "# 코테 입출력 받기"
   ]
  },
  {
   "attachments": {},
   "cell_type": "markdown",
   "metadata": {},
   "source": [
    "### 입력을 위한 전형적인 소스코드"
   ]
  },
  {
   "cell_type": "code",
   "execution_count": 3,
   "metadata": {},
   "outputs": [
    {
     "name": "stdout",
     "output_type": "stream",
     "text": [
      "[99, 90, 75, 65, 34]\n"
     ]
    }
   ],
   "source": [
    "# 파이썬 : list(map(int, input().split())) -> input()값을 공백을 기준으로 나누어 int형으로 변환하여 각각 정수형으로 리스트 저장\n",
    "# int(input()) 할 때마다 줄 바꿈 됨. \n",
    "\n",
    "#입력 예시\n",
    "# 5 - 데이터 개수\n",
    "# 65 90 75 34 99 - 정보(공백으로 구분)\n",
    "\n",
    "# 첫줄의 데이터 개수 저장\n",
    "n = int(input())\n",
    "# 두번째 줄의 각 데이터를 공백으로 구분하여 입력\n",
    "data = list(map(int, input().split()))\n",
    "\n",
    "data.sort(reverse=True)\n",
    "print(data)"
   ]
  },
  {
   "attachments": {},
   "cell_type": "markdown",
   "metadata": {},
   "source": [
    "### 공백을 기준으로 구분하여 적은 수의 데이터 입력"
   ]
  },
  {
   "cell_type": "code",
   "execution_count": 1,
   "metadata": {},
   "outputs": [
    {
     "name": "stdout",
     "output_type": "stream",
     "text": [
      "3 5 7\n"
     ]
    }
   ],
   "source": [
    "#n,m,k를 공백을 기준으로 구분하여 입력\n",
    "n,m,k = map(int, input().split())\n",
    "print(n,m,k)"
   ]
  },
  {
   "attachments": {},
   "cell_type": "markdown",
   "metadata": {},
   "source": [
    "### readline() 사용 - input()보다 속도가 빠름\n",
    "- 파이썬의 sys 라이브러리 사용"
   ]
  },
  {
   "cell_type": "code",
   "execution_count": null,
   "metadata": {},
   "outputs": [],
   "source": [
    "import sys\n",
    "\n",
    "#문자열 입력받기\n",
    "data = sys.stdin.readline().rstrip()  #readline()은 뒤에 엔터가 자동으로 입력돼서 꼭 rstrip() 호출해야 함.\n",
    "print(data)\n",
    "\n",
    "#실행하지 말것 - 주피터 노트북에서는 오류 발생"
   ]
  },
  {
   "attachments": {},
   "cell_type": "markdown",
   "metadata": {},
   "source": [
    "### 변수 출력"
   ]
  },
  {
   "cell_type": "code",
   "execution_count": 2,
   "metadata": {},
   "outputs": [
    {
     "name": "stdout",
     "output_type": "stream",
     "text": [
      "정답은 7입니다.\n",
      "정답은 7 입니다.\n",
      "정답은 7입니다.\n"
     ]
    }
   ],
   "source": [
    "answer = 7\n",
    "\n",
    "#1. str()로 변환 후, 더하기 연산자\n",
    "print(\"정답은 \" + str(answer) + \"입니다.\")\n",
    "#2. 각 변수를 , 로 연결 (공백 삽입 자동)\n",
    "print(\"정답은\", answer , \"입니다.\")\n",
    "#3. f-string 활용\n",
    "print(f\"정답은 {answer}입니다.\")"
   ]
  },
  {
   "attachments": {},
   "cell_type": "markdown",
   "metadata": {},
   "source": [
    "### 비트단위(bitwise) 연산자\n",
    "~(bitwise not), &(bitwise and), |(bitwise or), ^(bitwise xor),\n",
    "<<(bitwise left shift) - 2배씩 증가 , >>(bitwise right shift) - 1/2씩 감소"
   ]
  },
  {
   "attachments": {},
   "cell_type": "markdown",
   "metadata": {},
   "source": [
    "1) ord(문자)\n",
    "하나의 문자를 인자로 받고 해당 문자에 해당하는 유니코드 정수를 반환합니다.\n",
    "\n",
    "ord('a')를 넣으면 정수 97을 반환합니다.\n",
    "\n",
    " \n",
    "\n",
    "2) chr(정수)\n",
    "하나의 정수를 인자로 받고 해당 정수에 해당하는 유니코드 문자를 반환합니다.\n",
    "\n",
    "인자(정수)의 유효 범위는 0 ~ 1,114,111 (16진수 0x10 FFFF)까지 입니다.\n",
    "\n",
    "chr(97)을 하면 문자 'a'를 반환합니다."
   ]
  },
  {
   "attachments": {},
   "cell_type": "markdown",
   "metadata": {},
   "source": [
    "- 반복문에서 문자열을 한 줄로 프린트 하고 싶을 때, end=\" \" 사용하면 간편\n",
    "ex) print(chr(t), end=' ') \n",
    "- print()의 sep= , end= 조건 잘 기억해두기!"
   ]
  },
  {
   "attachments": {},
   "cell_type": "markdown",
   "metadata": {},
   "source": []
  },
  {
   "attachments": {},
   "cell_type": "markdown",
   "metadata": {},
   "source": [
    "## itertools 순열, 조합 관련 함수"
   ]
  },
  {
   "cell_type": "code",
   "execution_count": null,
   "metadata": {},
   "outputs": [],
   "source": [
    "    # set = ['A','B','C']\n",
    "    # 순열 -> from itertools import permutations\n",
    "    # print(list(permutation(set,2)))\n",
    "    # 조합 -> from itertools import combinations\n",
    "    # print(list(combinations(set,2)))\n",
    "    # 중복순열 -> from itertools import product\n",
    "    # print(list(product(set,2)))\n",
    "    # 중복조합 -> from itertools import combinations_with_replacement\n",
    "    # print(list(combinations_with_replacement(set,2)))"
   ]
  }
 ],
 "metadata": {
  "kernelspec": {
   "display_name": "Python 3",
   "language": "python",
   "name": "python3"
  },
  "language_info": {
   "codemirror_mode": {
    "name": "ipython",
    "version": 3
   },
   "file_extension": ".py",
   "mimetype": "text/x-python",
   "name": "python",
   "nbconvert_exporter": "python",
   "pygments_lexer": "ipython3",
   "version": "3.10.6"
  },
  "orig_nbformat": 4,
  "vscode": {
   "interpreter": {
    "hash": "fb4569285eef3a3450cb62085a5b1e0da4bce0af555edc33dcf29baf3acc1368"
   }
  }
 },
 "nbformat": 4,
 "nbformat_minor": 2
}
