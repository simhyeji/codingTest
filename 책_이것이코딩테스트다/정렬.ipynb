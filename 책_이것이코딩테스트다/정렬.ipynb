{
 "cells": [
  {
   "cell_type": "code",
   "execution_count": 1,
   "metadata": {},
   "outputs": [
    {
     "name": "stdout",
     "output_type": "stream",
     "text": [
      "[0, 1, 2, 3, 4, 5, 6, 7, 8, 9]\n"
     ]
    }
   ],
   "source": [
    "#선택정렬 - 가장 작은 데이터를 앞으로 보내는 것\n",
    "array = [7,5,9,0,3,1,6,2,4,8]\n",
    "\n",
    "for i in range(len(array)):\n",
    "    min_index = i #초기의 가장 작은 값 인덱스 지정\n",
    "    #뒤에 원소들 중 min_index의 값보다 작은 값이 있는지 확인\n",
    "    for j in range(i+1, len(array)):\n",
    "        if array[min_index] > array[j]:\n",
    "            min_index = j\n",
    "    #뒤의 값들을 모두 확인한 후, i번째에 가장 작은 값의 카드와 교환\n",
    "    array[i], array[min_index] = array[min_index], array[i]\n",
    "\n",
    "print(array)"
   ]
  },
  {
   "cell_type": "code",
   "execution_count": 1,
   "metadata": {},
   "outputs": [
    {
     "name": "stdout",
     "output_type": "stream",
     "text": [
      "[0, 1, 2, 3, 4, 5, 6, 7, 8, 9]\n"
     ]
    }
   ],
   "source": [
    "#삽입 정렬 - 특정한 데이터를 적절한 위치에 삽입 : 왼쪽으로 이동하며 삽입될 데이터보다 작은 데이터를 만나면 그 위치에서 멈춘다.\n",
    "array = [7,5,9,0,3,1,6,2,4,8]\n",
    "\n",
    "for i in range(1,len(array)):  #첫번째 원소는 이미 정렬이 되어 있다는 가정\n",
    "    for j in range(i,0,-1):  #i번째 부터 1번째까지 1씩 감소하며 확인\n",
    "        if array[j] < array[j-1]:  #왼쪽의 원소가 더 크면 스와프, 작은 원소가 나오면 멈춤\n",
    "            array[j], array[j-1] = array[j-1], array[j]\n",
    "        else:\n",
    "            break\n",
    "\n",
    "print(array)\n"
   ]
  },
  {
   "cell_type": "code",
   "execution_count": 2,
   "metadata": {},
   "outputs": [
    {
     "name": "stdout",
     "output_type": "stream",
     "text": [
      "[0, 1, 2, 3, 4, 5, 6, 7, 8, 9]\n"
     ]
    }
   ],
   "source": [
    "#퀵정렬 - 기준을 바탕으로 왼쪽에서부터 기준보다 큰 값을 찾고, 오른쪽부터는 기준보다 작은 값을 찾는다, 둘의 위치가 엇갈리면 작은 값과 피벗의 위치를 변경하여 분할 : 현재 리스트의 데이터 개수가 1개면 종료\n",
    "array = [7,5,9,0,3,1,6,2,4,8]\n",
    "\n",
    "def quick_sort(array, start, end):  #배열, 시작인덱스, 끝인덱스\n",
    "    if start >= end:   #배열의 원소가 하나일 경우 (시작이 끝보다 크거나 같으면 원소가 1개 이상 존재하지 못함)\n",
    "        return\n",
    "    pivot = start  #시작원소를 기준으로 확인\n",
    "    left = start + 1\n",
    "    right = end\n",
    "    while left <= right: #서로의 위치가 바뀔때까지 반복\n",
    "        while left <= end and array[pivot] >= array[left]:  #피벗보다 작은 원소를 찾을 때까지, 인덱스를 오른쪽으로 하나씩 이동\n",
    "            left += 1\n",
    "        while right > start and array[pivot] <= array[right]:  #피벗보다 큰 원소를 찾을 때까지, 끝에서부터 왼쪽으로 하나씩 이동\n",
    "            right -= 1\n",
    "        if left > right: #엇갈렸을 경우 작은 값이랑 피벗 값이랑 교환\n",
    "            array[pivot] , array[right] =  array[right] , array[pivot]\n",
    "        else:  #엇갈리지 않을 경우 작은 값이랑 큰 값이랑 교환\n",
    "            array[left], array[right] = array[right], array[left]\n",
    "    \n",
    "    #분할 이후, 왼쪽과 오른쪽 부분에서도 각각 정렬 수행 (정렬이 완료될 때까지 반복됨) : right과 피벗의 위치를 바꿨으므로 right를 기준으로 왼쪽, 오른쪽\n",
    "    quick_sort(array, start, right-1)\n",
    "    quick_sort(array, right+1, end)\n",
    "\n",
    "quick_sort(array, 0, len(array)-1)\n",
    "print(array)\n",
    "\n"
   ]
  },
  {
   "cell_type": "code",
   "execution_count": 4,
   "metadata": {},
   "outputs": [
    {
     "name": "stdout",
     "output_type": "stream",
     "text": [
      "[0, 1, 2, 3, 4, 5, 6, 7, 8, 9]\n"
     ]
    }
   ],
   "source": [
    "#간결한 퀵 정렬 코드\n",
    "array = [7,5,9,0,3,1,6,2,4,8]\n",
    "\n",
    "def quick_sort(array):\n",
    "    #리스트가 하나 이하의 원소만을 담고 있으면 종료\n",
    "    if len(array) <=1:\n",
    "        return array\n",
    "    pivot = array[0]\n",
    "    tail = array[1:]\n",
    "\n",
    "    left_side = [x for x in tail if x <= pivot]  #피벗보다 작은 원소는 왼쪽 부분으로 넣음\n",
    "    right_side = [x for x in tail if x > pivot]  #피벗보다 큰 원소는 오른쪽 부분으로 넣음\n",
    "\n",
    "    #분할 이후 왼쪽 부분과 오른쪽 부분을 반복적으로 수행하며 정렬을 하고, 전체 리스트를 반환\n",
    "    return quick_sort(left_side) + [pivot] + quick_sort(right_side) \n",
    "\n",
    "print(quick_sort(array))"
   ]
  },
  {
   "cell_type": "code",
   "execution_count": 5,
   "metadata": {},
   "outputs": [
    {
     "name": "stdout",
     "output_type": "stream",
     "text": [
      "0 0 1 1 2 2 3 4 5 5 6 7 8 9 9 "
     ]
    }
   ],
   "source": [
    "#계수 정렬 - 새로운 리스트를 생성해서 해당 인덱스에 값을 넣어주는 방식, 값이 한정되어 있고 최대값이 정해져 있을때 사용가능\n",
    "array = [7,5,9,0,3,1,6,2,9,1,4,8,0,5,2]\n",
    "#값의 모든 범위를 포함하는 리스트 선언\n",
    "count = [0] * (max(array)+1) #0부터 최대값까지의 범위만큼 리스트 생성\n",
    "\n",
    "for i in range(len(array)):\n",
    "    count[array[i]] += 1   #각 데이터가 해당하는 인덱스 값 증가\n",
    "\n",
    "for i in range(len(count)):\n",
    "    for j in range(count[i]): #count의 값에 해당하는만큼 반복하여 중복되는 값들을 해당 수 만큼 출력\n",
    "        print(i, end=\" \") \n",
    "\n"
   ]
  },
  {
   "cell_type": "code",
   "execution_count": 5,
   "metadata": {},
   "outputs": [
    {
     "name": "stdout",
     "output_type": "stream",
     "text": [
      "27 15 12 "
     ]
    }
   ],
   "source": [
    "#위에서 아래로\n",
    "n = int(input())\n",
    "nums = []\n",
    "for i in range(n):\n",
    "    nums.append(input())\n",
    "nums.sort(reverse=True)\n",
    "# answer = \"\"\n",
    "# for i in nums:\n",
    "#     answer += i + \" \"\n",
    "# print(answer.strip())\n",
    "for i in nums:\n",
    "    print(i,end=\" \")\n",
    "\n"
   ]
  },
  {
   "cell_type": "code",
   "execution_count": 12,
   "metadata": {},
   "outputs": [
    {
     "name": "stdout",
     "output_type": "stream",
     "text": [
      "이 홍 "
     ]
    }
   ],
   "source": [
    "#성적이 낮은 순서로 학생 출력하기\n",
    "k = int(input())\n",
    "li = []\n",
    "for i in range(k):\n",
    "    a,b = input().split()\n",
    "    li.append([a,b])\n",
    "# def case(info):\n",
    "#     return info[1]\n",
    "# answer = sorted(li,key=case)\n",
    "answer = sorted(li, key = lambda x:x[1])\n",
    "for i in answer:\n",
    "    print(i[0],end=\" \")"
   ]
  },
  {
   "cell_type": "code",
   "execution_count": 15,
   "metadata": {},
   "outputs": [
    {
     "name": "stdout",
     "output_type": "stream",
     "text": [
      "26\n"
     ]
    }
   ],
   "source": [
    "# 5 3\n",
    "# 1 2 5 4 3\n",
    "# 5 5 6 6 5\n",
    "#두 배열의 원소 교체 -- A의 원소가 B의 원소보다 클 때를 고려안해서 틀림\n",
    "n, k = map(int, input().split())\n",
    "A = list(map(int,input().split()))\n",
    "B = list(map(int,input().split()))\n",
    "A_s = sorted(A)\n",
    "B_s = sorted(B, reverse=True)\n",
    "answer = sum(A_s[3:])+ sum(B_s[:3])\n",
    "print(answer)\n"
   ]
  },
  {
   "cell_type": "code",
   "execution_count": 16,
   "metadata": {},
   "outputs": [
    {
     "name": "stdout",
     "output_type": "stream",
     "text": [
      "26\n"
     ]
    }
   ],
   "source": [
    "#두 배열의 원소 교체 - 정답\n",
    "n, k = map(int, input().split())\n",
    "A = list(map(int,input().split()))\n",
    "B = list(map(int,input().split()))\n",
    "A.sort()\n",
    "B.sort(reverse=True)\n",
    "#A의 원소가 B의 원소보다 작은 경우만 A원소를 바꿈\n",
    "for i in range(k):\n",
    "    if A[i] < B[i]:\n",
    "        A[i] = B[i]\n",
    "    else:\n",
    "        break\n",
    "print(sum(A))"
   ]
  }
 ],
 "metadata": {
  "kernelspec": {
   "display_name": "Python 3",
   "language": "python",
   "name": "python3"
  },
  "language_info": {
   "codemirror_mode": {
    "name": "ipython",
    "version": 3
   },
   "file_extension": ".py",
   "mimetype": "text/x-python",
   "name": "python",
   "nbconvert_exporter": "python",
   "pygments_lexer": "ipython3",
   "version": "3.10.6"
  },
  "orig_nbformat": 4,
  "vscode": {
   "interpreter": {
    "hash": "fb4569285eef3a3450cb62085a5b1e0da4bce0af555edc33dcf29baf3acc1368"
   }
  }
 },
 "nbformat": 4,
 "nbformat_minor": 2
}
