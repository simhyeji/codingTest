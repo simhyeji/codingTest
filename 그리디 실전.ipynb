{
 "cells": [
  {
   "attachments": {},
   "cell_type": "markdown",
   "metadata": {},
   "source": [
    "input\n",
    "5\n",
    "2 3 1 2 2\n",
    "[3, 2, 2, 2, 1]"
   ]
  },
  {
   "cell_type": "code",
   "execution_count": 3,
   "metadata": {},
   "outputs": [
    {
     "name": "stdout",
     "output_type": "stream",
     "text": [
      "2\n"
     ]
    }
   ],
   "source": [
    "#모험가 길드 - 내가 푼 방법 (잘못 됨)\n",
    "n = int(input())\n",
    "member_li = list(map(int, input().split()))\n",
    "member_li.sort(reverse=True)\n",
    "count = 0\n",
    "members = n\n",
    "for mem in member_li:\n",
    "    if members // mem >= 1:\n",
    "        count += 1\n",
    "        members = members / mem\n",
    "\n",
    "#------------인원수를 나눠주고 그 인원 만큼의 인덱스를 넘어가서 다음 공포도를 가져와야하는데 그냥 바로 다음 공포도를 가져와서 잘못된 코드---------\n",
    "print(count)\n",
    "\n",
    "\n"
   ]
  },
  {
   "cell_type": "code",
   "execution_count": 10,
   "metadata": {},
   "outputs": [
    {
     "name": "stdout",
     "output_type": "stream",
     "text": [
      "2\n"
     ]
    }
   ],
   "source": [
    "#모험가 길드 모범 답안\n",
    "n = int(input())\n",
    "member_li = list(map(int, input().split()))\n",
    "member_li.sort()\n",
    "count = 0 #총 그룹의 수\n",
    "members = 0 # 현재 그룹에 포함된 모험가의 수\n",
    "\n",
    "for mem in member_li:\n",
    "    members += 1 #현재 확인할 그룹의 인원수 체크\n",
    "    if members >= mem:\n",
    "        count += 1\n",
    "        members = 0\n",
    "print(count)\n",
    "\n"
   ]
  },
  {
   "cell_type": "code",
   "execution_count": 17,
   "metadata": {},
   "outputs": [
    {
     "name": "stdout",
     "output_type": "stream",
     "text": [
      "210\n"
     ]
    }
   ],
   "source": [
    "#곱하기 혹은 더하기\n",
    "num_li = input()\n",
    "result = int(num_li[0])\n",
    "for i in range(1,len(num_li)):\n",
    "    if int(num_li[i-1]) in (0,1):\n",
    "        result += int(num_li[i])\n",
    "    else:\n",
    "        result *= int(num_li[i])\n",
    "print(result)"
   ]
  },
  {
   "cell_type": "code",
   "execution_count": 50,
   "metadata": {},
   "outputs": [
    {
     "name": "stdout",
     "output_type": "stream",
     "text": [
      "3\n"
     ]
    }
   ],
   "source": [
    "#문자열 뒤집기\n",
    "num_li = input()\n",
    "result = 0\n",
    "rec_num = num_li[0]\n",
    "for i in range(1,len(num_li)):\n",
    "    if rec_num != num_li[i]:\n",
    "        result += 1\n",
    "    rec_num = num_li[i]\n",
    "if result > 0 :\n",
    "    if result%2==0:\n",
    "        result = result // 2\n",
    "    else:\n",
    "        result = (result+1)//2\n",
    "print(result)\n"
   ]
  },
  {
   "cell_type": "code",
   "execution_count": null,
   "metadata": {},
   "outputs": [],
   "source": [
    "#만들 수 없는 금액\n",
    "n = int(input())\n",
    "num_li = list(map(int, input()))\n",
    "num_li.sort()\n",
    "answer = 1\n",
    "\n",
    "while True:\n",
    "    for num in num_li:\n"
   ]
  },
  {
   "cell_type": "code",
   "execution_count": 53,
   "metadata": {},
   "outputs": [
    {
     "name": "stdout",
     "output_type": "stream",
     "text": [
      "25\n"
     ]
    }
   ],
   "source": [
    "# 1 3 2 3 2\n",
    "#볼링공 고르기\n",
    "N , M = map(int, input().split())\n",
    "ball_li = list(map(int, input().split()))\n",
    "count = 0\n",
    "\n",
    "for i in range(N): #현재 대상\n",
    "    for j in range(i+1,N): # 비교 대상\n",
    "        if ball_li[i] != ball_li[j]:\n",
    "            count += 1\n",
    "print(count)\n"
   ]
  },
  {
   "cell_type": "code",
   "execution_count": null,
   "metadata": {},
   "outputs": [],
   "source": [
    "#무지의 먹방 라이브 -- 내 코드 (정확도 30프로)\n",
    "def solution(food_times, k):      \n",
    "    answer = 0  #현재 접시\n",
    "    limit = 0 \n",
    "    for time in food_times:\n",
    "        limit += time\n",
    "    \n",
    "    if limit <= k:\n",
    "        answer = -1\n",
    "    else: \n",
    "        while k > 0:\n",
    "            for i in range(len(food_times)):\n",
    "                if food_times[i] != 0: #접시에 음식이 남아있을때\n",
    "                    answer += 1 #다음접시로 넘어감\n",
    "                    food_times[i] -= 1 #현재 접시 -1\n",
    "                    k -= 1 #시간초 1초 제외\n",
    "                    if k < 1: \n",
    "                        break\n",
    "                    #print(k, food_times , answer)\n",
    "                else: #접시에 음식이 없을때\n",
    "                    answer += 1\n",
    "                    \n",
    "        if ((answer+1) % len(food_times)) == 0:\n",
    "            answer = len(food_times)\n",
    "        else:\n",
    "            answer = ((answer+1) % len(food_times))\n",
    "        if food_times[answer-1] == 0:\n",
    "            answer += 1\n",
    "    \n",
    "    return answer\n"
   ]
  },
  {
   "cell_type": "code",
   "execution_count": null,
   "metadata": {},
   "outputs": [],
   "source": [
    "#무지의 먹방 라이브 -- 내 수정 코드 (정확도 100프로 효율성 실패)\n",
    "def solution(food_times, k):      \n",
    "    answer = 0  #현재 접시\n",
    "    limit = 0 \n",
    "    for time in food_times:\n",
    "        limit += time\n",
    "    \n",
    "    if limit <= k:\n",
    "        answer = -1\n",
    "    else: \n",
    "##------------ 다음번 횟수까지 돌려서 체크하고 밑에 answer+1하던 부분을 수정했더니 정확성 해결\n",
    "        while k >= 0:  \n",
    "            for i in range(len(food_times)):\n",
    "                if food_times[i] != 0: #접시에 음식이 남아있을때\n",
    "                    answer += 1 #다음접시로 넘어감\n",
    "                    food_times[i] -= 1 #현재 접시 -1\n",
    "                    k -= 1 #시간초 1초 제외\n",
    "                    if k < 0: \n",
    "                        break\n",
    "                    #print(k, food_times , answer)\n",
    "                else: #접시에 음식이 없을때\n",
    "                    answer += 1\n",
    "                    \n",
    "        if ((answer) % len(food_times)) == 0:\n",
    "            answer = len(food_times)\n",
    "        else:\n",
    "            answer = ((answer) % len(food_times))\n",
    "    \n",
    "    return answer"
   ]
  },
  {
   "cell_type": "code",
   "execution_count": null,
   "metadata": {},
   "outputs": [],
   "source": [
    "#무지의 먹방 라이브 -- 김수혁 코드(정확도 100, 효율성 실패)\n",
    "def solution(food_times, k):\n",
    "    answer = 0\n",
    "\n",
    "    if sum(food_times)<=k:\n",
    "        return -1\n",
    "    time = 0\n",
    "    index = 0\n",
    "    while time <=k:\n",
    "        index=index%len(food_times)\n",
    "        if food_times[index]>0:\n",
    "            food_times[index]-=1\n",
    "            index+=1\n",
    "            time+=1\n",
    "        else:\n",
    "            index+=1\n",
    "\n",
    "    answer = index\n",
    "    return answer"
   ]
  }
 ],
 "metadata": {
  "kernelspec": {
   "display_name": "Python 3",
   "language": "python",
   "name": "python3"
  },
  "language_info": {
   "codemirror_mode": {
    "name": "ipython",
    "version": 3
   },
   "file_extension": ".py",
   "mimetype": "text/x-python",
   "name": "python",
   "nbconvert_exporter": "python",
   "pygments_lexer": "ipython3",
   "version": "3.10.6"
  },
  "orig_nbformat": 4,
  "vscode": {
   "interpreter": {
    "hash": "fb4569285eef3a3450cb62085a5b1e0da4bce0af555edc33dcf29baf3acc1368"
   }
  }
 },
 "nbformat": 4,
 "nbformat_minor": 2
}
